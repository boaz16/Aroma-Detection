{
 "cells": [
  {
   "cell_type": "code",
   "execution_count": 2,
   "id": "74b27dd0",
   "metadata": {
    "id": "74b27dd0",
    "scrolled": true
   },
   "outputs": [],
   "source": [
    "import tensorflow as tf\n",
    "from tensorflow.keras.models import Sequential\n",
    "from tensorflow.keras.layers import Dense\n",
    "from sklearn.model_selection import train_test_split\n",
    "from sklearn.preprocessing import StandardScaler\n",
    "import pandas as pd\n",
    "data = pd.read_csv(r'Y:\\Self\\College\\S8\\AI Nose\\Combined Data\\combined data 5.csv')"
   ]
  },
  {
   "cell_type": "code",
   "execution_count": 3,
   "id": "df18d6fe",
   "metadata": {
    "id": "df18d6fe",
    "outputId": "e1b05779-0a9d-453b-98d0-12017df15275",
    "scrolled": true
   },
   "outputs": [
    {
     "data": {
      "text/html": [
       "<div>\n",
       "<style scoped>\n",
       "    .dataframe tbody tr th:only-of-type {\n",
       "        vertical-align: middle;\n",
       "    }\n",
       "\n",
       "    .dataframe tbody tr th {\n",
       "        vertical-align: top;\n",
       "    }\n",
       "\n",
       "    .dataframe thead th {\n",
       "        text-align: right;\n",
       "    }\n",
       "</style>\n",
       "<table border=\"1\" class=\"dataframe\">\n",
       "  <thead>\n",
       "    <tr style=\"text-align: right;\">\n",
       "      <th></th>\n",
       "      <th>voc1</th>\n",
       "      <th>no2</th>\n",
       "      <th>eth</th>\n",
       "      <th>co</th>\n",
       "      <th>tag</th>\n",
       "    </tr>\n",
       "  </thead>\n",
       "  <tbody>\n",
       "    <tr>\n",
       "      <th>6600</th>\n",
       "      <td>1.57</td>\n",
       "      <td>2.49</td>\n",
       "      <td>1.36</td>\n",
       "      <td>1.87</td>\n",
       "      <td>tea</td>\n",
       "    </tr>\n",
       "    <tr>\n",
       "      <th>6601</th>\n",
       "      <td>1.57</td>\n",
       "      <td>2.49</td>\n",
       "      <td>1.36</td>\n",
       "      <td>1.87</td>\n",
       "      <td>tea</td>\n",
       "    </tr>\n",
       "    <tr>\n",
       "      <th>6602</th>\n",
       "      <td>1.57</td>\n",
       "      <td>2.49</td>\n",
       "      <td>1.36</td>\n",
       "      <td>1.87</td>\n",
       "      <td>tea</td>\n",
       "    </tr>\n",
       "    <tr>\n",
       "      <th>6603</th>\n",
       "      <td>1.57</td>\n",
       "      <td>2.49</td>\n",
       "      <td>1.37</td>\n",
       "      <td>1.88</td>\n",
       "      <td>tea</td>\n",
       "    </tr>\n",
       "    <tr>\n",
       "      <th>6604</th>\n",
       "      <td>1.57</td>\n",
       "      <td>2.49</td>\n",
       "      <td>1.37</td>\n",
       "      <td>1.87</td>\n",
       "      <td>tea</td>\n",
       "    </tr>\n",
       "  </tbody>\n",
       "</table>\n",
       "</div>"
      ],
      "text/plain": [
       "      voc1   no2   eth    co  tag\n",
       "6600  1.57  2.49  1.36  1.87  tea\n",
       "6601  1.57  2.49  1.36  1.87  tea\n",
       "6602  1.57  2.49  1.36  1.87  tea\n",
       "6603  1.57  2.49  1.37  1.88  tea\n",
       "6604  1.57  2.49  1.37  1.87  tea"
      ]
     },
     "execution_count": 3,
     "metadata": {},
     "output_type": "execute_result"
    }
   ],
   "source": [
    "data.tail()"
   ]
  },
  {
   "cell_type": "code",
   "execution_count": 4,
   "id": "4a1f2fab",
   "metadata": {
    "id": "4a1f2fab",
    "outputId": "4407126c-edf0-4237-9741-19fb7f644f6c"
   },
   "outputs": [
    {
     "data": {
      "text/html": [
       "<div>\n",
       "<style scoped>\n",
       "    .dataframe tbody tr th:only-of-type {\n",
       "        vertical-align: middle;\n",
       "    }\n",
       "\n",
       "    .dataframe tbody tr th {\n",
       "        vertical-align: top;\n",
       "    }\n",
       "\n",
       "    .dataframe thead th {\n",
       "        text-align: right;\n",
       "    }\n",
       "</style>\n",
       "<table border=\"1\" class=\"dataframe\">\n",
       "  <thead>\n",
       "    <tr style=\"text-align: right;\">\n",
       "      <th></th>\n",
       "      <th>voc1</th>\n",
       "      <th>no2</th>\n",
       "      <th>eth</th>\n",
       "      <th>co</th>\n",
       "      <th>tag</th>\n",
       "    </tr>\n",
       "  </thead>\n",
       "  <tbody>\n",
       "    <tr>\n",
       "      <th>0</th>\n",
       "      <td>0.43</td>\n",
       "      <td>0.70</td>\n",
       "      <td>0.23</td>\n",
       "      <td>0.83</td>\n",
       "      <td>background</td>\n",
       "    </tr>\n",
       "    <tr>\n",
       "      <th>1</th>\n",
       "      <td>0.43</td>\n",
       "      <td>0.70</td>\n",
       "      <td>0.23</td>\n",
       "      <td>0.83</td>\n",
       "      <td>background</td>\n",
       "    </tr>\n",
       "    <tr>\n",
       "      <th>2</th>\n",
       "      <td>0.43</td>\n",
       "      <td>0.69</td>\n",
       "      <td>0.23</td>\n",
       "      <td>0.83</td>\n",
       "      <td>background</td>\n",
       "    </tr>\n",
       "    <tr>\n",
       "      <th>3</th>\n",
       "      <td>0.43</td>\n",
       "      <td>0.69</td>\n",
       "      <td>0.23</td>\n",
       "      <td>0.83</td>\n",
       "      <td>background</td>\n",
       "    </tr>\n",
       "    <tr>\n",
       "      <th>4</th>\n",
       "      <td>0.43</td>\n",
       "      <td>0.69</td>\n",
       "      <td>0.23</td>\n",
       "      <td>0.83</td>\n",
       "      <td>background</td>\n",
       "    </tr>\n",
       "    <tr>\n",
       "      <th>...</th>\n",
       "      <td>...</td>\n",
       "      <td>...</td>\n",
       "      <td>...</td>\n",
       "      <td>...</td>\n",
       "      <td>...</td>\n",
       "    </tr>\n",
       "    <tr>\n",
       "      <th>6600</th>\n",
       "      <td>1.57</td>\n",
       "      <td>2.49</td>\n",
       "      <td>1.36</td>\n",
       "      <td>1.87</td>\n",
       "      <td>tea</td>\n",
       "    </tr>\n",
       "    <tr>\n",
       "      <th>6601</th>\n",
       "      <td>1.57</td>\n",
       "      <td>2.49</td>\n",
       "      <td>1.36</td>\n",
       "      <td>1.87</td>\n",
       "      <td>tea</td>\n",
       "    </tr>\n",
       "    <tr>\n",
       "      <th>6602</th>\n",
       "      <td>1.57</td>\n",
       "      <td>2.49</td>\n",
       "      <td>1.36</td>\n",
       "      <td>1.87</td>\n",
       "      <td>tea</td>\n",
       "    </tr>\n",
       "    <tr>\n",
       "      <th>6603</th>\n",
       "      <td>1.57</td>\n",
       "      <td>2.49</td>\n",
       "      <td>1.37</td>\n",
       "      <td>1.88</td>\n",
       "      <td>tea</td>\n",
       "    </tr>\n",
       "    <tr>\n",
       "      <th>6604</th>\n",
       "      <td>1.57</td>\n",
       "      <td>2.49</td>\n",
       "      <td>1.37</td>\n",
       "      <td>1.87</td>\n",
       "      <td>tea</td>\n",
       "    </tr>\n",
       "  </tbody>\n",
       "</table>\n",
       "<p>6605 rows × 5 columns</p>\n",
       "</div>"
      ],
      "text/plain": [
       "      voc1   no2   eth    co         tag\n",
       "0     0.43  0.70  0.23  0.83  background\n",
       "1     0.43  0.70  0.23  0.83  background\n",
       "2     0.43  0.69  0.23  0.83  background\n",
       "3     0.43  0.69  0.23  0.83  background\n",
       "4     0.43  0.69  0.23  0.83  background\n",
       "...    ...   ...   ...   ...         ...\n",
       "6600  1.57  2.49  1.36  1.87         tea\n",
       "6601  1.57  2.49  1.36  1.87         tea\n",
       "6602  1.57  2.49  1.36  1.87         tea\n",
       "6603  1.57  2.49  1.37  1.88         tea\n",
       "6604  1.57  2.49  1.37  1.87         tea\n",
       "\n",
       "[6605 rows x 5 columns]"
      ]
     },
     "execution_count": 4,
     "metadata": {},
     "output_type": "execute_result"
    }
   ],
   "source": [
    "data"
   ]
  },
  {
   "cell_type": "code",
   "execution_count": 5,
   "id": "a641d11d",
   "metadata": {},
   "outputs": [
    {
     "data": {
      "text/plain": [
       "Index(['voc1', 'no2', 'eth', 'co', 'tag'], dtype='object')"
      ]
     },
     "execution_count": 5,
     "metadata": {},
     "output_type": "execute_result"
    }
   ],
   "source": [
    "data.columns"
   ]
  },
  {
   "cell_type": "code",
   "execution_count": 6,
   "id": "b9c06695",
   "metadata": {},
   "outputs": [
    {
     "name": "stdout",
     "output_type": "stream",
     "text": [
      "Confusion Matrix:\n",
      "[[259   0   0   0   0   0]\n",
      " [  0 226   0   0   0   0]\n",
      " [  0   0 230   0   0   0]\n",
      " [  0   0   0 202   0   0]\n",
      " [  0   0   0   0 227   0]\n",
      " [  0   0   0   0   0 177]]\n",
      "\n",
      "Classification Report:\n",
      "              precision    recall  f1-score   support\n",
      "\n",
      "  background       1.00      1.00      1.00       259\n",
      "      coffee       1.00      1.00      1.00       226\n",
      "      garlic       1.00      1.00      1.00       230\n",
      "      ginger       1.00      1.00      1.00       202\n",
      "      orange       1.00      1.00      1.00       227\n",
      "         tea       1.00      1.00      1.00       177\n",
      "\n",
      "    accuracy                           1.00      1321\n",
      "   macro avg       1.00      1.00      1.00      1321\n",
      "weighted avg       1.00      1.00      1.00      1321\n",
      "\n"
     ]
    }
   ],
   "source": [
    "from sklearn.model_selection import train_test_split\n",
    "from sklearn.svm import SVC\n",
    "from sklearn.metrics import classification_report, confusion_matrix\n",
    "import pandas as pd\n",
    "\n",
    "# Assuming your data is stored in a DataFrame named 'df'\n",
    "# X contains the features and y contains the target variable\n",
    "X = data[['voc1', 'no2', 'eth', 'co']]\n",
    "y = data['tag']\n",
    "\n",
    "# Splitting the data into training and testing sets\n",
    "X_train, X_test, y_train, y_test = train_test_split(X, y, test_size=0.2, random_state=42)\n",
    "\n",
    "# Creating and training the SVC model\n",
    "model_svc = SVC(kernel='poly', C=1, decision_function_shape='ovr')  # Using linear kernel, you can experiment with other kernels too\n",
    "model_svc.fit(X_train, y_train)\n",
    "\n",
    "# Predicting the labels for the test set\n",
    "y_pred = model_svc.predict(X_test)\n",
    "\n",
    "# Evaluating the model\n",
    "print(\"Confusion Matrix:\")\n",
    "print(confusion_matrix(y_test, y_pred))\n",
    "print(\"\\nClassification Report:\")\n",
    "print(classification_report(y_test, y_pred))"
   ]
  },
  {
   "cell_type": "code",
   "execution_count": 7,
   "id": "16b396b9",
   "metadata": {},
   "outputs": [
    {
     "data": {
      "image/png": "[encoded data removed]",
      "text/plain": [
       "<Figure size 640x480 with 2 Axes>"
      ]
     },
     "metadata": {},
     "output_type": "display_data"
    }
   ],
   "source": [
    "import matplotlib.pyplot as plt\n",
    "\n",
    "from sklearn.metrics import confusion_matrix, ConfusionMatrixDisplay\n",
    "cm = confusion_matrix(y_test, y_pred, labels=model_svc.classes_)\n",
    "disp = ConfusionMatrixDisplay(confusion_matrix=cm,\n",
    "                              display_labels=model_svc.classes_)\n",
    "disp.plot()\n",
    "plt.show()"
   ]
  },
  {
   "cell_type": "code",
   "execution_count": 8,
   "id": "0e26f114",
   "metadata": {},
   "outputs": [
    {
     "name": "stdout",
     "output_type": "stream",
     "text": [
      "Confusion Matrix:\n",
      "[[259   0   0   0   0   0]\n",
      " [  0 226   0   0   0   0]\n",
      " [  0   0 230   0   0   0]\n",
      " [  0   0   0 202   0   0]\n",
      " [  0   0   0   0 227   0]\n",
      " [  0   0   0   0   0 177]]\n",
      "\n",
      "Classification Report:\n",
      "              precision    recall  f1-score   support\n",
      "\n",
      "  background       1.00      1.00      1.00       259\n",
      "      coffee       1.00      1.00      1.00       226\n",
      "      garlic       1.00      1.00      1.00       230\n",
      "      ginger       1.00      1.00      1.00       202\n",
      "      orange       1.00      1.00      1.00       227\n",
      "         tea       1.00      1.00      1.00       177\n",
      "\n",
      "    accuracy                           1.00      1321\n",
      "   macro avg       1.00      1.00      1.00      1321\n",
      "weighted avg       1.00      1.00      1.00      1321\n",
      "\n"
     ]
    }
   ],
   "source": [
    "from sklearn.model_selection import train_test_split\n",
    "from sklearn.ensemble import RandomForestClassifier\n",
    "from sklearn.metrics import classification_report, confusion_matrix\n",
    "import pandas as pd\n",
    "\n",
    "# Assuming your data is stored in a DataFrame named 'df'\n",
    "# X contains the features and y contains the target variable\n",
    "X = data[['voc1', 'no2', 'eth', 'co']]\n",
    "y = data['tag']\n",
    "\n",
    "# Splitting the data into training and testing sets\n",
    "X_train, X_test, y_train, y_test = train_test_split(X, y, test_size=0.2, random_state=42)\n",
    "\n",
    "# Creating and training the Random Forest Classifier model\n",
    "model = RandomForestClassifier(n_estimators=100, random_state=42)  # You can adjust the number of trees (n_estimators)\n",
    "model.fit(X_train, y_train)\n",
    "\n",
    "# Predicting the labels for the test set\n",
    "y_pred = model.predict(X_test)\n",
    "\n",
    "# Evaluating the model\n",
    "print(\"Confusion Matrix:\")\n",
    "print(confusion_matrix(y_test, y_pred))\n",
    "print(\"\\nClassification Report:\")\n",
    "print(classification_report(y_test, y_pred))\n"
   ]
  },
  {
   "cell_type": "code",
   "execution_count": 9,
   "id": "3d9aada9",
   "metadata": {
    "id": "3d9aada9"
   },
   "outputs": [
    {
     "data": {
      "text/plain": [
       "['Y:\\\\Self\\\\College\\\\S8\\\\AI Nose\\\\Combined Data\\\\scaler2.pkl']"
      ]
     },
     "execution_count": 9,
     "metadata": {},
     "output_type": "execute_result"
    }
   ],
   "source": [
    "X, y = data[['voc1','no2','eth','co']], data['tag']\n",
    "\n",
    "from sklearn.preprocessing import LabelEncoder\n",
    "from keras.utils import to_categorical\n",
    "import joblib\n",
    "from joblib import dump, load\n",
    "\n",
    "label_encoder = LabelEncoder()\n",
    "y = label_encoder.fit_transform(y)\n",
    "y_categorical = to_categorical(y, num_classes=6)\n",
    "label_encoder_path = r\"Y:\\Self\\College\\S8\\AI Nose\\Combined Data\\label_encoder2.pkl\"\n",
    "joblib.dump(label_encoder, label_encoder_path)\n",
    "\n",
    "X_train, X_test, y_train, y_test = train_test_split(X, y_categorical, test_size=0.2, random_state=42)\n",
    "\n",
    "scaler = StandardScaler()\n",
    "X_train = scaler.fit_transform(X_train)\n",
    "X_test = scaler.transform(X_test)\n",
    "\n",
    "# Save the scaler\n",
    "scaler_path = (r'Y:\\Self\\College\\S8\\AI Nose\\Combined Data\\scaler2.pkl')\n",
    "dump(scaler, scaler_path)"
   ]
  },
  {
   "cell_type": "code",
   "execution_count": 10,
   "id": "426d299a",
   "metadata": {},
   "outputs": [
    {
     "data": {
      "text/plain": [
       "(5284, 4)"
      ]
     },
     "execution_count": 10,
     "metadata": {},
     "output_type": "execute_result"
    }
   ],
   "source": [
    "X_train.shape"
   ]
  },
  {
   "cell_type": "code",
   "execution_count": 11,
   "id": "6a0bcd72",
   "metadata": {},
   "outputs": [
    {
     "data": {
      "text/plain": [
       "(5284, 6)"
      ]
     },
     "execution_count": 11,
     "metadata": {},
     "output_type": "execute_result"
    }
   ],
   "source": [
    "y_train.shape"
   ]
  },
  {
   "cell_type": "code",
   "execution_count": 13,
   "id": "5566d3f2",
   "metadata": {
    "id": "5566d3f2",
    "outputId": "189d8e0f-942f-453e-f82e-ff571ea83904"
   },
   "outputs": [
    {
     "name": "stdout",
     "output_type": "stream",
     "text": [
      "Epoch 1/30\n",
      "185/185 [==============================] - 2s 4ms/step - loss: 1.4454 - accuracy: 0.3386 - val_loss: 1.2200 - val_accuracy: 0.4792\n",
      "Epoch 2/30\n",
      "185/185 [==============================] - 1s 3ms/step - loss: 0.9988 - accuracy: 0.5506 - val_loss: 0.8420 - val_accuracy: 0.5889\n",
      "Epoch 3/30\n",
      "185/185 [==============================] - 1s 3ms/step - loss: 0.6735 - accuracy: 0.6933 - val_loss: 0.5306 - val_accuracy: 0.7806\n",
      "Epoch 4/30\n",
      "185/185 [==============================] - 0s 3ms/step - loss: 0.4093 - accuracy: 0.9562 - val_loss: 0.3128 - val_accuracy: 0.9805\n",
      "Epoch 5/30\n",
      "185/185 [==============================] - 1s 3ms/step - loss: 0.2392 - accuracy: 0.9849 - val_loss: 0.1765 - val_accuracy: 0.9798\n",
      "Epoch 6/30\n",
      "185/185 [==============================] - 1s 3ms/step - loss: 0.1372 - accuracy: 0.9878 - val_loss: 0.1044 - val_accuracy: 0.9830\n",
      "Epoch 7/30\n",
      "185/185 [==============================] - 1s 3ms/step - loss: 0.0863 - accuracy: 0.9927 - val_loss: 0.0716 - val_accuracy: 0.9849\n",
      "Epoch 8/30\n",
      "185/185 [==============================] - 1s 3ms/step - loss: 0.0614 - accuracy: 0.9943 - val_loss: 0.0527 - val_accuracy: 0.9943\n",
      "Epoch 9/30\n",
      "185/185 [==============================] - 1s 3ms/step - loss: 0.0461 - accuracy: 0.9965 - val_loss: 0.0427 - val_accuracy: 0.9924\n",
      "Epoch 10/30\n",
      "185/185 [==============================] - 0s 3ms/step - loss: 0.0367 - accuracy: 0.9970 - val_loss: 0.0331 - val_accuracy: 0.9968\n",
      "Epoch 11/30\n",
      "185/185 [==============================] - 1s 3ms/step - loss: 0.0293 - accuracy: 0.9984 - val_loss: 0.0280 - val_accuracy: 0.9943\n",
      "Epoch 12/30\n",
      "185/185 [==============================] - 1s 3ms/step - loss: 0.0238 - accuracy: 0.9976 - val_loss: 0.0241 - val_accuracy: 0.9968\n",
      "Epoch 13/30\n",
      "185/185 [==============================] - 1s 3ms/step - loss: 0.0203 - accuracy: 0.9984 - val_loss: 0.0195 - val_accuracy: 0.9962\n",
      "Epoch 14/30\n",
      "185/185 [==============================] - 1s 3ms/step - loss: 0.0168 - accuracy: 0.9986 - val_loss: 0.0161 - val_accuracy: 0.9968\n",
      "Epoch 15/30\n",
      "185/185 [==============================] - 1s 3ms/step - loss: 0.0132 - accuracy: 0.9984 - val_loss: 0.0137 - val_accuracy: 0.9968\n",
      "Epoch 16/30\n",
      "185/185 [==============================] - 1s 3ms/step - loss: 0.0115 - accuracy: 0.9992 - val_loss: 0.0119 - val_accuracy: 0.9968\n",
      "Epoch 17/30\n",
      "185/185 [==============================] - 1s 3ms/step - loss: 0.0096 - accuracy: 0.9992 - val_loss: 0.0105 - val_accuracy: 0.9968\n",
      "Epoch 18/30\n",
      "185/185 [==============================] - 1s 4ms/step - loss: 0.0067 - accuracy: 0.9992 - val_loss: 0.0067 - val_accuracy: 0.9987\n",
      "Epoch 19/30\n",
      "185/185 [==============================] - 1s 3ms/step - loss: 0.0049 - accuracy: 0.9995 - val_loss: 0.0053 - val_accuracy: 1.0000\n",
      "Epoch 20/30\n",
      "185/185 [==============================] - 1s 3ms/step - loss: 0.0038 - accuracy: 1.0000 - val_loss: 0.0046 - val_accuracy: 0.9987\n",
      "Epoch 21/30\n",
      "185/185 [==============================] - 1s 3ms/step - loss: 0.0030 - accuracy: 1.0000 - val_loss: 0.0038 - val_accuracy: 0.9987\n",
      "Epoch 22/30\n",
      "185/185 [==============================] - 1s 3ms/step - loss: 0.0025 - accuracy: 1.0000 - val_loss: 0.0033 - val_accuracy: 1.0000\n",
      "Epoch 23/30\n",
      "185/185 [==============================] - 1s 4ms/step - loss: 0.0021 - accuracy: 0.9997 - val_loss: 0.0025 - val_accuracy: 1.0000\n",
      "Epoch 24/30\n",
      "185/185 [==============================] - 1s 3ms/step - loss: 0.0018 - accuracy: 1.0000 - val_loss: 0.0022 - val_accuracy: 1.0000\n",
      "Epoch 25/30\n",
      "185/185 [==============================] - 1s 3ms/step - loss: 0.0015 - accuracy: 1.0000 - val_loss: 0.0020 - val_accuracy: 1.0000\n",
      "Epoch 26/30\n",
      "185/185 [==============================] - 1s 4ms/step - loss: 0.0013 - accuracy: 1.0000 - val_loss: 0.0016 - val_accuracy: 1.0000\n",
      "Epoch 27/30\n",
      "185/185 [==============================] - 1s 4ms/step - loss: 0.0011 - accuracy: 1.0000 - val_loss: 0.0014 - val_accuracy: 1.0000\n",
      "Epoch 28/30\n",
      "185/185 [==============================] - 1s 4ms/step - loss: 9.0500e-04 - accuracy: 1.0000 - val_loss: 0.0016 - val_accuracy: 1.0000\n",
      "Epoch 29/30\n",
      "185/185 [==============================] - 1s 3ms/step - loss: 8.1594e-04 - accuracy: 1.0000 - val_loss: 0.0011 - val_accuracy: 1.0000\n",
      "Epoch 30/30\n",
      "185/185 [==============================] - 1s 4ms/step - loss: 7.7302e-04 - accuracy: 1.0000 - val_loss: 9.9451e-04 - val_accuracy: 1.0000\n"
     ]
    }
   ],
   "source": [
    "from tensorflow.keras.callbacks import EarlyStopping\n",
    "\n",
    "early_stopping = EarlyStopping(\n",
    "    patience=5, \n",
    "    monitor='val_loss', \n",
    "    restore_best_weights=True,  \n",
    "    verbose=1  \n",
    ")\n",
    "\n",
    "model = Sequential()\n",
    "model.add(Dense(8, input_dim=4, activation='relu'))\n",
    "model.add(Dense(8, activation='relu'))\n",
    "model.add(Dense(4, activation='relu'))\n",
    "model.add(Dense(6, activation='softmax'))\n",
    "model.compile(optimizer='adam', loss='categorical_crossentropy', metrics=['accuracy'])\n",
    "history = model.fit(X_train, y_train, epochs=30, batch_size=20, validation_split=0.3, callbacks=[early_stopping])"
   ]
  },
  {
   "cell_type": "code",
   "execution_count": 14,
   "id": "f9e5928f",
   "metadata": {
    "scrolled": true
   },
   "outputs": [
    {
     "name": "stdout",
     "output_type": "stream",
     "text": [
      "Model: \"sequential_1\"\n",
      "_________________________________________________________________\n",
      " Layer (type)                Output Shape              Param #   \n",
      "=================================================================\n",
      " dense_4 (Dense)             (None, 8)                 40        \n",
      "                                                                 \n",
      " dense_5 (Dense)             (None, 8)                 72        \n",
      "                                                                 \n",
      " dense_6 (Dense)             (None, 4)                 36        \n",
      "                                                                 \n",
      " dense_7 (Dense)             (None, 6)                 30        \n",
      "                                                                 \n",
      "=================================================================\n",
      "Total params: 178 (712.00 Byte)\n",
      "Trainable params: 178 (712.00 Byte)\n",
      "Non-trainable params: 0 (0.00 Byte)\n",
      "_________________________________________________________________\n"
     ]
    }
   ],
   "source": [
    "model.summary()"
   ]
  },
  {
   "cell_type": "code",
   "execution_count": 16,
   "id": "a7752498",
   "metadata": {
    "id": "a7752498",
    "outputId": "b6b8e63a-c5f2-4159-8c9c-78736631d874"
   },
   "outputs": [
    {
     "name": "stdout",
     "output_type": "stream",
     "text": [
      "42/42 [==============================] - 0s 2ms/step - loss: 4.4079e-04 - accuracy: 1.0000\n",
      "Test Loss: 0.0004, Test Accuracy: 1.0000\n"
     ]
    }
   ],
   "source": [
    "loss, accuracy = model.evaluate(X_test, y_test)\n",
    "print(f'Test Loss: {loss:.4f}, Test Accuracy: {accuracy:.4f}')"
   ]
  },
  {
   "cell_type": "code",
   "execution_count": 17,
   "id": "19415f6c",
   "metadata": {},
   "outputs": [
    {
     "data": {
      "image/png": "[encoded data removed]",
      "text/plain": [
       "<Figure size 1200x600 with 2 Axes>"
      ]
     },
     "metadata": {},
     "output_type": "display_data"
    }
   ],
   "source": [
    "import matplotlib.pyplot as plt\n",
    "\n",
    "# Plot training and validation accuracy values\n",
    "plt.figure(figsize=(12, 6))\n",
    "plt.subplot(1, 2, 1)\n",
    "plt.plot(history.history['accuracy'], label='Training Accuracy')\n",
    "plt.plot(history.history['val_accuracy'], label='Validation Accuracy')\n",
    "plt.title('Training and Validation Accuracy')\n",
    "plt.xlabel('Epoch')\n",
    "plt.ylabel('Accuracy')\n",
    "plt.legend()\n",
    "\n",
    "# Plot training and validation loss values\n",
    "plt.subplot(1, 2, 2)\n",
    "plt.plot(history.history['loss'], label='Training Loss')\n",
    "plt.plot(history.history['val_loss'], label='Validation Loss')\n",
    "plt.title('Training and Validation Loss')\n",
    "plt.xlabel('Epoch')\n",
    "plt.ylabel('Loss')\n",
    "plt.legend()\n",
    "\n",
    "plt.tight_layout()\n",
    "plt.show()\n"
   ]
  },
  {
   "cell_type": "code",
   "execution_count": 18,
   "id": "c83bbdf7-a20e-4038-9bfa-d31dc5743452",
   "metadata": {},
   "outputs": [],
   "source": [
    "data.drop_duplicates(inplace=True)"
   ]
  },
  {
   "cell_type": "code",
   "execution_count": 19,
   "id": "9a606b5b-091d-4720-a33d-5d6764a1f5f8",
   "metadata": {
    "id": "3d9aada9"
   },
   "outputs": [
    {
     "data": {
      "text/plain": [
       "['Y:\\\\Self\\\\College\\\\S8\\\\AI Nose\\\\Combined Data\\\\scaler2.pkl']"
      ]
     },
     "execution_count": 19,
     "metadata": {},
     "output_type": "execute_result"
    }
   ],
   "source": [
    "X, y = data[['voc1','no2','eth','co']], data['tag']\n",
    "\n",
    "from sklearn.preprocessing import LabelEncoder\n",
    "from keras.utils import to_categorical\n",
    "import joblib\n",
    "from joblib import dump, load\n",
    "\n",
    "label_encoder = LabelEncoder()\n",
    "y = label_encoder.fit_transform(y)\n",
    "y_categorical = to_categorical(y, num_classes=6)\n",
    "label_encoder_path = r\"Y:\\Self\\College\\S8\\AI Nose\\Combined Data\\label_encoder2.pkl\"\n",
    "joblib.dump(label_encoder, label_encoder_path)\n",
    "\n",
    "X_train, X_test, y_train, y_test = train_test_split(X, y_categorical, test_size=0.2, random_state=42)\n",
    "\n",
    "scaler = StandardScaler()\n",
    "X_train = scaler.fit_transform(X_train)\n",
    "X_test = scaler.transform(X_test)\n",
    "\n",
    "# Save the scaler\n",
    "scaler_path = (r'Y:\\Self\\College\\S8\\AI Nose\\Combined Data\\scaler2.pkl')\n",
    "dump(scaler, scaler_path)"
   ]
  },
  {
   "cell_type": "code",
   "execution_count": 20,
   "id": "8d935ded-b558-4984-8c77-dfb78799b17e",
   "metadata": {},
   "outputs": [
    {
     "data": {
      "text/plain": [
       "(1604, 4)"
      ]
     },
     "execution_count": 20,
     "metadata": {},
     "output_type": "execute_result"
    }
   ],
   "source": [
    "X_train.shape"
   ]
  },
  {
   "cell_type": "code",
   "execution_count": 21,
   "id": "26c6effc-2ac5-4e44-9797-8694d51f14a5",
   "metadata": {},
   "outputs": [
    {
     "data": {
      "text/plain": [
       "(1604, 6)"
      ]
     },
     "execution_count": 21,
     "metadata": {},
     "output_type": "execute_result"
    }
   ],
   "source": [
    "y_train.shape"
   ]
  },
  {
   "cell_type": "code",
   "execution_count": 22,
   "id": "ea4e739c-2d11-4970-b429-9c92b1bd366e",
   "metadata": {
    "id": "5566d3f2",
    "outputId": "189d8e0f-942f-453e-f82e-ff571ea83904"
   },
   "outputs": [
    {
     "name": "stdout",
     "output_type": "stream",
     "text": [
      "Epoch 1/30\n",
      "57/57 [==============================] - 1s 7ms/step - loss: 1.7181 - accuracy: 0.4216 - val_loss: 1.6642 - val_accuracy: 0.4129\n",
      "Epoch 2/30\n",
      "57/57 [==============================] - 0s 3ms/step - loss: 1.6115 - accuracy: 0.4412 - val_loss: 1.5477 - val_accuracy: 0.4481\n",
      "Epoch 3/30\n",
      "57/57 [==============================] - 0s 3ms/step - loss: 1.4776 - accuracy: 0.6194 - val_loss: 1.3821 - val_accuracy: 0.7324\n",
      "Epoch 4/30\n",
      "57/57 [==============================] - 0s 4ms/step - loss: 1.2930 - accuracy: 0.7861 - val_loss: 1.1706 - val_accuracy: 0.8299\n",
      "Epoch 5/30\n",
      "57/57 [==============================] - 0s 4ms/step - loss: 1.0601 - accuracy: 0.8476 - val_loss: 0.9079 - val_accuracy: 0.8589\n",
      "Epoch 6/30\n",
      "57/57 [==============================] - 0s 4ms/step - loss: 0.7803 - accuracy: 0.8627 - val_loss: 0.6432 - val_accuracy: 0.8589\n",
      "Epoch 7/30\n",
      "57/57 [==============================] - 0s 3ms/step - loss: 0.5469 - accuracy: 0.8627 - val_loss: 0.4549 - val_accuracy: 0.8589\n",
      "Epoch 8/30\n",
      "57/57 [==============================] - 0s 3ms/step - loss: 0.3905 - accuracy: 0.8627 - val_loss: 0.3331 - val_accuracy: 0.8755\n",
      "Epoch 9/30\n",
      "57/57 [==============================] - 0s 4ms/step - loss: 0.2942 - accuracy: 0.9349 - val_loss: 0.2547 - val_accuracy: 0.9627\n",
      "Epoch 10/30\n",
      "57/57 [==============================] - 0s 4ms/step - loss: 0.2306 - accuracy: 0.9661 - val_loss: 0.2024 - val_accuracy: 0.9627\n",
      "Epoch 11/30\n",
      "57/57 [==============================] - 0s 4ms/step - loss: 0.1862 - accuracy: 0.9661 - val_loss: 0.1643 - val_accuracy: 0.9627\n",
      "Epoch 12/30\n",
      "57/57 [==============================] - 0s 5ms/step - loss: 0.1534 - accuracy: 0.9661 - val_loss: 0.1375 - val_accuracy: 0.9627\n",
      "Epoch 13/30\n",
      "57/57 [==============================] - 0s 5ms/step - loss: 0.1299 - accuracy: 0.9679 - val_loss: 0.1163 - val_accuracy: 0.9627\n",
      "Epoch 14/30\n",
      "57/57 [==============================] - 0s 3ms/step - loss: 0.1116 - accuracy: 0.9750 - val_loss: 0.1006 - val_accuracy: 0.9751\n",
      "Epoch 15/30\n",
      "57/57 [==============================] - 0s 3ms/step - loss: 0.0985 - accuracy: 0.9786 - val_loss: 0.0909 - val_accuracy: 0.9647\n",
      "Epoch 16/30\n",
      "57/57 [==============================] - 0s 6ms/step - loss: 0.0864 - accuracy: 0.9795 - val_loss: 0.0802 - val_accuracy: 0.9751\n",
      "Epoch 17/30\n",
      "57/57 [==============================] - 0s 5ms/step - loss: 0.0786 - accuracy: 0.9795 - val_loss: 0.0740 - val_accuracy: 0.9689\n",
      "Epoch 18/30\n",
      "57/57 [==============================] - 0s 3ms/step - loss: 0.0698 - accuracy: 0.9831 - val_loss: 0.0649 - val_accuracy: 0.9793\n",
      "Epoch 19/30\n",
      "57/57 [==============================] - 0s 4ms/step - loss: 0.0629 - accuracy: 0.9804 - val_loss: 0.0573 - val_accuracy: 0.9876\n",
      "Epoch 20/30\n",
      "57/57 [==============================] - 0s 6ms/step - loss: 0.0577 - accuracy: 0.9866 - val_loss: 0.0523 - val_accuracy: 0.9876\n",
      "Epoch 21/30\n",
      "57/57 [==============================] - 0s 3ms/step - loss: 0.0522 - accuracy: 0.9902 - val_loss: 0.0501 - val_accuracy: 0.9834\n",
      "Epoch 22/30\n",
      "57/57 [==============================] - 0s 3ms/step - loss: 0.0480 - accuracy: 0.9893 - val_loss: 0.0467 - val_accuracy: 0.9855\n",
      "Epoch 23/30\n",
      "57/57 [==============================] - 0s 3ms/step - loss: 0.0439 - accuracy: 0.9920 - val_loss: 0.0419 - val_accuracy: 0.9876\n",
      "Epoch 24/30\n",
      "57/57 [==============================] - 0s 3ms/step - loss: 0.0405 - accuracy: 0.9884 - val_loss: 0.0372 - val_accuracy: 0.9959\n",
      "Epoch 25/30\n",
      "57/57 [==============================] - 0s 7ms/step - loss: 0.0391 - accuracy: 0.9929 - val_loss: 0.0341 - val_accuracy: 0.9959\n",
      "Epoch 26/30\n",
      "57/57 [==============================] - 0s 4ms/step - loss: 0.0337 - accuracy: 0.9955 - val_loss: 0.0311 - val_accuracy: 0.9979\n",
      "Epoch 27/30\n",
      "57/57 [==============================] - 0s 4ms/step - loss: 0.0311 - accuracy: 0.9964 - val_loss: 0.0286 - val_accuracy: 0.9979\n",
      "Epoch 28/30\n",
      "57/57 [==============================] - 0s 3ms/step - loss: 0.0288 - accuracy: 0.9964 - val_loss: 0.0262 - val_accuracy: 0.9979\n",
      "Epoch 29/30\n",
      "57/57 [==============================] - 0s 3ms/step - loss: 0.0267 - accuracy: 0.9973 - val_loss: 0.0245 - val_accuracy: 0.9979\n",
      "Epoch 30/30\n",
      "57/57 [==============================] - 0s 3ms/step - loss: 0.0242 - accuracy: 0.9982 - val_loss: 0.0226 - val_accuracy: 0.9979\n"
     ]
    }
   ],
   "source": [
    "from tensorflow.keras.callbacks import EarlyStopping\n",
    "\n",
    "early_stopping = EarlyStopping(\n",
    "    patience=5, \n",
    "    monitor='val_loss', \n",
    "    restore_best_weights=True,  \n",
    "    verbose=1  \n",
    ")\n",
    "\n",
    "model = Sequential()\n",
    "model.add(Dense(8, input_dim=4, activation='relu'))\n",
    "model.add(Dense(8, activation='relu'))\n",
    "model.add(Dense(4, activation='relu'))\n",
    "model.add(Dense(6, activation='softmax'))\n",
    "model.compile(optimizer='adam', loss='categorical_crossentropy', metrics=['accuracy'])\n",
    "history = model.fit(X_train, y_train, epochs=30, batch_size=20, validation_split=0.3, callbacks=[early_stopping])"
   ]
  },
  {
   "cell_type": "code",
   "execution_count": 23,
   "id": "30f569b9-680c-4b38-93b5-68e1683f09a4",
   "metadata": {
    "scrolled": true
   },
   "outputs": [
    {
     "name": "stdout",
     "output_type": "stream",
     "text": [
      "Model: \"sequential_2\"\n",
      "_________________________________________________________________\n",
      " Layer (type)                Output Shape              Param #   \n",
      "=================================================================\n",
      " dense_8 (Dense)             (None, 8)                 40        \n",
      "                                                                 \n",
      " dense_9 (Dense)             (None, 8)                 72        \n",
      "                                                                 \n",
      " dense_10 (Dense)            (None, 4)                 36        \n",
      "                                                                 \n",
      " dense_11 (Dense)            (None, 6)                 30        \n",
      "                                                                 \n",
      "=================================================================\n",
      "Total params: 178 (712.00 Byte)\n",
      "Trainable params: 178 (712.00 Byte)\n",
      "Non-trainable params: 0 (0.00 Byte)\n",
      "_________________________________________________________________\n"
     ]
    }
   ],
   "source": [
    "model.summary()"
   ]
  },
  {
   "cell_type": "code",
   "execution_count": 24,
   "id": "dc10e047-4be3-4532-a110-ca7e0ac95718",
   "metadata": {
    "id": "a7752498",
    "outputId": "b6b8e63a-c5f2-4159-8c9c-78736631d874"
   },
   "outputs": [
    {
     "name": "stdout",
     "output_type": "stream",
     "text": [
      "13/13 [==============================] - 0s 2ms/step - loss: 0.0268 - accuracy: 0.9950\n",
      "Test Loss: 0.0268, Test Accuracy: 0.9950\n"
     ]
    }
   ],
   "source": [
    "loss, accuracy = model.evaluate(X_test, y_test)\n",
    "print(f'Test Loss: {loss:.4f}, Test Accuracy: {accuracy:.4f}')"
   ]
  },
  {
   "cell_type": "code",
   "execution_count": 25,
   "id": "6d4a851d-18ce-451b-a7ad-431e6c837d64",
   "metadata": {},
   "outputs": [
    {
     "data": {
      "image/png": "[encoded data removed]",
      "text/plain": [
       "<Figure size 1200x600 with 2 Axes>"
      ]
     },
     "metadata": {},
     "output_type": "display_data"
    }
   ],
   "source": [
    "import matplotlib.pyplot as plt\n",
    "\n",
    "# Plot training and validation accuracy values\n",
    "plt.figure(figsize=(12, 6))\n",
    "plt.subplot(1, 2, 1)\n",
    "plt.plot(history.history['accuracy'], label='Training Accuracy')\n",
    "plt.plot(history.history['val_accuracy'], label='Validation Accuracy')\n",
    "plt.title('Training and Validation Accuracy')\n",
    "plt.xlabel('Epoch')\n",
    "plt.ylabel('Accuracy')\n",
    "plt.legend()\n",
    "\n",
    "# Plot training and validation loss values\n",
    "plt.subplot(1, 2, 2)\n",
    "plt.plot(history.history['loss'], label='Training Loss')\n",
    "plt.plot(history.history['val_loss'], label='Validation Loss')\n",
    "plt.title('Training and Validation Loss')\n",
    "plt.xlabel('Epoch')\n",
    "plt.ylabel('Loss')\n",
    "plt.legend()\n",
    "\n",
    "plt.tight_layout()\n",
    "plt.show()\n"
   ]
  },
  {
   "cell_type": "code",
   "execution_count": 15,
   "id": "0fab7ab6",
   "metadata": {},
   "outputs": [
    {
     "name": "stderr",
     "output_type": "stream",
     "text": [
      "WARNING:absl:Found untraced functions such as _update_step_xla while saving (showing 1 of 1). These functions will not be directly callable after loading.\n"
     ]
    },
    {
     "name": "stdout",
     "output_type": "stream",
     "text": [
      "INFO:tensorflow:Assets written to: Y:\\Self\\College\\S8\\AI Nose\\Combined Data\\ann_model2\\assets\n"
     ]
    },
    {
     "name": "stderr",
     "output_type": "stream",
     "text": [
      "INFO:tensorflow:Assets written to: Y:\\Self\\College\\S8\\AI Nose\\Combined Data\\ann_model2\\assets\n"
     ]
    }
   ],
   "source": [
    "model.save(r\"Y:\\Self\\College\\S8\\AI Nose\\Combined Data\\ann_model\")"
   ]
  },
  {
   "cell_type": "markdown",
   "id": "f3faeb3b",
   "metadata": {},
   "source": [
    "### Making a sample prediction"
   ]
  },
  {
   "cell_type": "code",
   "execution_count": 12,
   "id": "ccc6e7ce",
   "metadata": {},
   "outputs": [
    {
     "name": "stderr",
     "output_type": "stream",
     "text": [
      "c:\\Users\\muham\\anaconda3\\lib\\site-packages\\sklearn\\base.py:450: UserWarning: X does not have valid feature names, but StandardScaler was fitted with feature names\n",
      "  warnings.warn(\n"
     ]
    },
    {
     "name": "stdout",
     "output_type": "stream",
     "text": [
      "WARNING:tensorflow:6 out of the last 6 calls to <function Model.make_predict_function.<locals>.predict_function at 0x00000158F057D670> triggered tf.function retracing. Tracing is expensive and the excessive number of tracings could be due to (1) creating @tf.function repeatedly in a loop, (2) passing tensors with different shapes, (3) passing Python objects instead of tensors. For (1), please define your @tf.function outside of the loop. For (2), @tf.function has reduce_retracing=True option that can avoid unnecessary retracing. For (3), please refer to https://www.tensorflow.org/guide/function#controlling_retracing and https://www.tensorflow.org/api_docs/python/tf/function for  more details.\n",
      "1/1 [==============================] - 0s 187ms/step\n",
      "Predicted Labels:\n",
      "['orange']\n"
     ]
    }
   ],
   "source": [
    "import numpy as np\n",
    "from tensorflow.keras.models import load_model\n",
    "from sklearn.preprocessing import StandardScaler\n",
    "import joblib\n",
    "\n",
    "# Load the scaler from the specified path\n",
    "scaler_path = r\"Y:\\Self\\College\\S8\\AI Nose\\Combined Data\\scaler.pkl\"\n",
    "scaler = joblib.load(scaler_path)\n",
    "\n",
    "model = load_model(r\"Y:\\Self\\College\\S8\\AI Nose\\Combined Data\\ann_model\")\n",
    "\n",
    "label_encoder_path = r\"Y:\\Self\\College\\S8\\AI Nose\\Combined Data\\label_encoder.pkl\"\n",
    "label_encoder = joblib.load(label_encoder_path)\n",
    "\n",
    "inputs_features = np.array([[4.54,4.10,4.96,4.48]])\n",
    "\n",
    "# Transform the input data using the loaded scaler\n",
    "scaled_inputs_features = scaler.transform(inputs_features)\n",
    "\n",
    "# Predict using the model\n",
    "predictions_features = model.predict(scaled_inputs_features)\n",
    "\n",
    "# Get the predicted class index (argmax)\n",
    "predicted_class_index = np.argmax(predictions_features, axis=1)\n",
    "\n",
    "# Inverse transform the predicted class index to the original class labels\n",
    "decoded_labels_features = label_encoder.inverse_transform(predicted_class_index)\n",
    "\n",
    "print(\"Predicted Labels:\")\n",
    "print(decoded_labels_features)"
   ]
  },
  {
   "cell_type": "code",
   "execution_count": 1,
   "id": "e3aa9402",
   "metadata": {},
   "outputs": [
    {
     "ename": "ModuleNotFoundError",
     "evalue": "No module named 'dill'",
     "output_type": "error",
     "traceback": [
      "\u001b[1;31m---------------------------------------------------------------------------\u001b[0m",
      "\u001b[1;31mModuleNotFoundError\u001b[0m                       Traceback (most recent call last)",
      "Cell \u001b[1;32mIn[1], line 10\u001b[0m\n\u001b[0;32m      8\u001b[0m \u001b[38;5;66;03m# Load the scaler from the specified path\u001b[39;00m\n\u001b[0;32m      9\u001b[0m scaler_path \u001b[38;5;241m=\u001b[39m \u001b[38;5;124mr\u001b[39m\u001b[38;5;124m\"\u001b[39m\u001b[38;5;124mY:\u001b[39m\u001b[38;5;124m\\\u001b[39m\u001b[38;5;124mSelf\u001b[39m\u001b[38;5;124m\\\u001b[39m\u001b[38;5;124mCollege\u001b[39m\u001b[38;5;124m\\\u001b[39m\u001b[38;5;124mS8\u001b[39m\u001b[38;5;124m\\\u001b[39m\u001b[38;5;124mAI Nose\u001b[39m\u001b[38;5;124m\\\u001b[39m\u001b[38;5;124mCombined Data\u001b[39m\u001b[38;5;124m\\\u001b[39m\u001b[38;5;124mscaler.pkl\u001b[39m\u001b[38;5;124m\"\u001b[39m\n\u001b[1;32m---> 10\u001b[0m scaler \u001b[38;5;241m=\u001b[39m \u001b[43mjoblib\u001b[49m\u001b[38;5;241;43m.\u001b[39;49m\u001b[43mload\u001b[49m\u001b[43m(\u001b[49m\u001b[43mscaler_path\u001b[49m\u001b[43m)\u001b[49m\n\u001b[0;32m     12\u001b[0m \u001b[38;5;66;03m# Load the label encoder from the specified path\u001b[39;00m\n\u001b[0;32m     13\u001b[0m label_encoder_path \u001b[38;5;241m=\u001b[39m \u001b[38;5;124mr\u001b[39m\u001b[38;5;124m\"\u001b[39m\u001b[38;5;124mY:\u001b[39m\u001b[38;5;124m\\\u001b[39m\u001b[38;5;124mSelf\u001b[39m\u001b[38;5;124m\\\u001b[39m\u001b[38;5;124mCollege\u001b[39m\u001b[38;5;124m\\\u001b[39m\u001b[38;5;124mS8\u001b[39m\u001b[38;5;124m\\\u001b[39m\u001b[38;5;124mAI Nose\u001b[39m\u001b[38;5;124m\\\u001b[39m\u001b[38;5;124mCombined Data\u001b[39m\u001b[38;5;124m\\\u001b[39m\u001b[38;5;124mlabel_encoder.pkl\u001b[39m\u001b[38;5;124m\"\u001b[39m\n",
      "File \u001b[1;32m~\\Documents\\AI Nose\\.conda\\lib\\site-packages\\joblib\\numpy_pickle.py:658\u001b[0m, in \u001b[0;36mload\u001b[1;34m(filename, mmap_mode)\u001b[0m\n\u001b[0;32m    652\u001b[0m             \u001b[38;5;28;01mif\u001b[39;00m \u001b[38;5;28misinstance\u001b[39m(fobj, \u001b[38;5;28mstr\u001b[39m):\n\u001b[0;32m    653\u001b[0m                 \u001b[38;5;66;03m# if the returned file object is a string, this means we\u001b[39;00m\n\u001b[0;32m    654\u001b[0m                 \u001b[38;5;66;03m# try to load a pickle file generated with an version of\u001b[39;00m\n\u001b[0;32m    655\u001b[0m                 \u001b[38;5;66;03m# Joblib so we load it with joblib compatibility function.\u001b[39;00m\n\u001b[0;32m    656\u001b[0m                 \u001b[38;5;28;01mreturn\u001b[39;00m load_compatibility(fobj)\n\u001b[1;32m--> 658\u001b[0m             obj \u001b[38;5;241m=\u001b[39m \u001b[43m_unpickle\u001b[49m\u001b[43m(\u001b[49m\u001b[43mfobj\u001b[49m\u001b[43m,\u001b[49m\u001b[43m \u001b[49m\u001b[43mfilename\u001b[49m\u001b[43m,\u001b[49m\u001b[43m \u001b[49m\u001b[43mmmap_mode\u001b[49m\u001b[43m)\u001b[49m\n\u001b[0;32m    659\u001b[0m \u001b[38;5;28;01mreturn\u001b[39;00m obj\n",
      "File \u001b[1;32m~\\Documents\\AI Nose\\.conda\\lib\\site-packages\\joblib\\numpy_pickle.py:577\u001b[0m, in \u001b[0;36m_unpickle\u001b[1;34m(fobj, filename, mmap_mode)\u001b[0m\n\u001b[0;32m    575\u001b[0m obj \u001b[38;5;241m=\u001b[39m \u001b[38;5;28;01mNone\u001b[39;00m\n\u001b[0;32m    576\u001b[0m \u001b[38;5;28;01mtry\u001b[39;00m:\n\u001b[1;32m--> 577\u001b[0m     obj \u001b[38;5;241m=\u001b[39m \u001b[43munpickler\u001b[49m\u001b[38;5;241;43m.\u001b[39;49m\u001b[43mload\u001b[49m\u001b[43m(\u001b[49m\u001b[43m)\u001b[49m\n\u001b[0;32m    578\u001b[0m     \u001b[38;5;28;01mif\u001b[39;00m unpickler\u001b[38;5;241m.\u001b[39mcompat_mode:\n\u001b[0;32m    579\u001b[0m         warnings\u001b[38;5;241m.\u001b[39mwarn(\u001b[38;5;124m\"\u001b[39m\u001b[38;5;124mThe file \u001b[39m\u001b[38;5;124m'\u001b[39m\u001b[38;5;132;01m%s\u001b[39;00m\u001b[38;5;124m'\u001b[39m\u001b[38;5;124m has been generated with a \u001b[39m\u001b[38;5;124m\"\u001b[39m\n\u001b[0;32m    580\u001b[0m                       \u001b[38;5;124m\"\u001b[39m\u001b[38;5;124mjoblib version less than 0.10. \u001b[39m\u001b[38;5;124m\"\u001b[39m\n\u001b[0;32m    581\u001b[0m                       \u001b[38;5;124m\"\u001b[39m\u001b[38;5;124mPlease regenerate this pickle file.\u001b[39m\u001b[38;5;124m\"\u001b[39m\n\u001b[0;32m    582\u001b[0m                       \u001b[38;5;241m%\u001b[39m filename,\n\u001b[0;32m    583\u001b[0m                       \u001b[38;5;167;01mDeprecationWarning\u001b[39;00m, stacklevel\u001b[38;5;241m=\u001b[39m\u001b[38;5;241m3\u001b[39m)\n",
      "File \u001b[1;32m~\\Documents\\AI Nose\\.conda\\lib\\pickle.py:1212\u001b[0m, in \u001b[0;36m_Unpickler.load\u001b[1;34m(self)\u001b[0m\n\u001b[0;32m   1210\u001b[0m             \u001b[38;5;28;01mraise\u001b[39;00m \u001b[38;5;167;01mEOFError\u001b[39;00m\n\u001b[0;32m   1211\u001b[0m         \u001b[38;5;28;01massert\u001b[39;00m \u001b[38;5;28misinstance\u001b[39m(key, bytes_types)\n\u001b[1;32m-> 1212\u001b[0m         \u001b[43mdispatch\u001b[49m\u001b[43m[\u001b[49m\u001b[43mkey\u001b[49m\u001b[43m[\u001b[49m\u001b[38;5;241;43m0\u001b[39;49m\u001b[43m]\u001b[49m\u001b[43m]\u001b[49m\u001b[43m(\u001b[49m\u001b[38;5;28;43mself\u001b[39;49m\u001b[43m)\u001b[49m\n\u001b[0;32m   1213\u001b[0m \u001b[38;5;28;01mexcept\u001b[39;00m _Stop \u001b[38;5;28;01mas\u001b[39;00m stopinst:\n\u001b[0;32m   1214\u001b[0m     \u001b[38;5;28;01mreturn\u001b[39;00m stopinst\u001b[38;5;241m.\u001b[39mvalue\n",
      "File \u001b[1;32m~\\Documents\\AI Nose\\.conda\\lib\\pickle.py:1537\u001b[0m, in \u001b[0;36m_Unpickler.load_stack_global\u001b[1;34m(self)\u001b[0m\n\u001b[0;32m   1535\u001b[0m \u001b[38;5;28;01mif\u001b[39;00m \u001b[38;5;28mtype\u001b[39m(name) \u001b[38;5;129;01mis\u001b[39;00m \u001b[38;5;129;01mnot\u001b[39;00m \u001b[38;5;28mstr\u001b[39m \u001b[38;5;129;01mor\u001b[39;00m \u001b[38;5;28mtype\u001b[39m(module) \u001b[38;5;129;01mis\u001b[39;00m \u001b[38;5;129;01mnot\u001b[39;00m \u001b[38;5;28mstr\u001b[39m:\n\u001b[0;32m   1536\u001b[0m     \u001b[38;5;28;01mraise\u001b[39;00m UnpicklingError(\u001b[38;5;124m\"\u001b[39m\u001b[38;5;124mSTACK_GLOBAL requires str\u001b[39m\u001b[38;5;124m\"\u001b[39m)\n\u001b[1;32m-> 1537\u001b[0m \u001b[38;5;28mself\u001b[39m\u001b[38;5;241m.\u001b[39mappend(\u001b[38;5;28;43mself\u001b[39;49m\u001b[38;5;241;43m.\u001b[39;49m\u001b[43mfind_class\u001b[49m\u001b[43m(\u001b[49m\u001b[43mmodule\u001b[49m\u001b[43m,\u001b[49m\u001b[43m \u001b[49m\u001b[43mname\u001b[49m\u001b[43m)\u001b[49m)\n",
      "File \u001b[1;32m~\\Documents\\AI Nose\\.conda\\lib\\pickle.py:1579\u001b[0m, in \u001b[0;36m_Unpickler.find_class\u001b[1;34m(self, module, name)\u001b[0m\n\u001b[0;32m   1577\u001b[0m     \u001b[38;5;28;01melif\u001b[39;00m module \u001b[38;5;129;01min\u001b[39;00m _compat_pickle\u001b[38;5;241m.\u001b[39mIMPORT_MAPPING:\n\u001b[0;32m   1578\u001b[0m         module \u001b[38;5;241m=\u001b[39m _compat_pickle\u001b[38;5;241m.\u001b[39mIMPORT_MAPPING[module]\n\u001b[1;32m-> 1579\u001b[0m \u001b[38;5;28;43m__import__\u001b[39;49m\u001b[43m(\u001b[49m\u001b[43mmodule\u001b[49m\u001b[43m,\u001b[49m\u001b[43m \u001b[49m\u001b[43mlevel\u001b[49m\u001b[38;5;241;43m=\u001b[39;49m\u001b[38;5;241;43m0\u001b[39;49m\u001b[43m)\u001b[49m\n\u001b[0;32m   1580\u001b[0m \u001b[38;5;28;01mif\u001b[39;00m \u001b[38;5;28mself\u001b[39m\u001b[38;5;241m.\u001b[39mproto \u001b[38;5;241m>\u001b[39m\u001b[38;5;241m=\u001b[39m \u001b[38;5;241m4\u001b[39m:\n\u001b[0;32m   1581\u001b[0m     \u001b[38;5;28;01mreturn\u001b[39;00m _getattribute(sys\u001b[38;5;241m.\u001b[39mmodules[module], name)[\u001b[38;5;241m0\u001b[39m]\n",
      "\u001b[1;31mModuleNotFoundError\u001b[0m: No module named 'dill'"
     ]
    }
   ],
   "source": [
    "import tkinter as tk\n",
    "from tkinter import messagebox\n",
    "import numpy as np\n",
    "from tensorflow.keras.models import load_model\n",
    "from sklearn.preprocessing import StandardScaler, LabelEncoder\n",
    "import joblib\n",
    "\n",
    "# Load the scaler from the specified path\n",
    "scaler_path = r\"Y:\\Self\\College\\S8\\AI Nose\\Combined Data\\scaler.pkl\"\n",
    "scaler = joblib.load(scaler_path)\n",
    "\n",
    "# Load the label encoder from the specified path\n",
    "label_encoder_path = r\"Y:\\Self\\College\\S8\\AI Nose\\Combined Data\\label_encoder.pkl\"\n",
    "label_encoder = joblib.load(label_encoder_path)\n",
    "\n",
    "# Load the model\n",
    "model_path = r\"Y:\\Self\\College\\S8\\AI Nose\\Combined Data\\ann_model\"\n",
    "model = load_model(model_path)\n",
    "\n",
    "def predict_class():\n",
    "    try:\n",
    "        # Get input features from the entry fields\n",
    "        feature1 = float(entry_feature1.get())\n",
    "        feature2 = float(entry_feature2.get())\n",
    "        feature3 = float(entry_feature3.get())\n",
    "        feature4 = float(entry_feature4.get())\n",
    "        \n",
    "        # Transform the input data using the loaded scaler\n",
    "        scaled_input_features = scaler.transform([[feature1, feature2, feature3, feature4]])\n",
    "        \n",
    "        # Predict using the model\n",
    "        predictions = model.predict(scaled_input_features)\n",
    "        \n",
    "        # Get the predicted class index (argmax)\n",
    "        predicted_class_index = np.argmax(predictions, axis=1)\n",
    "        \n",
    "        # Inverse transform the predicted class index to the original class label\n",
    "        predicted_class = label_encoder.inverse_transform(predicted_class_index)\n",
    "        \n",
    "        # Show the predicted class in a message box\n",
    "        messagebox.showinfo(\"Prediction\", f\"The predicted class is: {predicted_class[0]}\")\n",
    "    except Exception as e:\n",
    "        messagebox.showerror(\"Error\", f\"An error occurred: {str(e)}\")\n",
    "\n",
    "# Create the main window\n",
    "root = tk.Tk()\n",
    "root.title(\"AI Nose Prediction\")\n",
    "\n",
    "# Create labels and entry fields for input features\n",
    "tk.Label(root, text=\"Feature 1:\").grid(row=0, column=0)\n",
    "entry_feature1 = tk.Entry(root)\n",
    "entry_feature1.grid(row=0, column=1)\n",
    "\n",
    "tk.Label(root, text=\"Feature 2:\").grid(row=1, column=0)\n",
    "entry_feature2 = tk.Entry(root)\n",
    "entry_feature2.grid(row=1, column=1)\n",
    "\n",
    "tk.Label(root, text=\"Feature 3:\").grid(row=2, column=0)\n",
    "entry_feature3 = tk.Entry(root)\n",
    "entry_feature3.grid(row=2, column=1)\n",
    "\n",
    "tk.Label(root, text=\"Feature 4:\").grid(row=3, column=0)\n",
    "entry_feature4 = tk.Entry(root)\n",
    "entry_feature4.grid(row=3, column=1)\n",
    "\n",
    "# Create a button to trigger prediction\n",
    "predict_button = tk.Button(root, text=\"Predict\", command=predict_class)\n",
    "predict_button.grid(row=4, column=0, columnspan=2, pady=10)\n",
    "\n",
    "# Run the main event loop\n",
    "root.mainloop()"
   ]
  },
  {
   "cell_type": "code",
   "execution_count": 11,
   "id": "2cdb1d50",
   "metadata": {},
   "outputs": [
    {
     "name": "stderr",
     "output_type": "stream",
     "text": [
      "c:\\Users\\muham\\anaconda3\\lib\\site-packages\\sklearn\\base.py:450: UserWarning: X does not have valid feature names, but StandardScaler was fitted with feature names\n",
      "  warnings.warn(\n"
     ]
    }
   ],
   "source": [
    "import tkinter as tk\n",
    "from tkinter import messagebox\n",
    "from tkinter import ttk\n",
    "import numpy as np\n",
    "from tensorflow.keras.models import load_model\n",
    "from sklearn.preprocessing import StandardScaler, LabelEncoder\n",
    "import joblib\n",
    "import threading\n",
    "import time\n",
    "\n",
    "# Load the scaler from the specified path\n",
    "scaler_path = r\"Y:\\Self\\College\\S8\\AI Nose\\Combined Data\\scaler.pkl\"\n",
    "scaler = joblib.load(scaler_path)\n",
    "\n",
    "# Load the label encoder from the specified path\n",
    "label_encoder_path = r\"Y:\\Self\\College\\S8\\AI Nose\\Combined Data\\label_encoder.pkl\"\n",
    "label_encoder = joblib.load(label_encoder_path)\n",
    "\n",
    "# Load the model\n",
    "model_path = r\"Y:\\Self\\College\\S8\\AI Nose\\Combined Data\\ann_model\"\n",
    "model = load_model(model_path)\n",
    "\n",
    "# Global variables to store the input features\n",
    "input_features = []\n",
    "\n",
    "def start_prediction():\n",
    "    global input_features\n",
    "    input_features = []  # Reset input features\n",
    "    \n",
    "    # Update UI to show \"Predicting...\"\n",
    "    prediction_label.config(text=\"Predicting...\")\n",
    "    root.update_idletasks()\n",
    "    \n",
    "    # Predict for 25 seconds\n",
    "    start_time = time.time()\n",
    "    while time.time() - start_time < 10:\n",
    "        # Replace this with your code to read the sensor values\n",
    "        # For this example, I'm generating random values\n",
    "        feature1 = np.random.rand(5)\n",
    "        feature2 = np.random.rand(5)\n",
    "        feature3 = np.random.rand(5)\n",
    "        feature4 = np.random.rand(5)\n",
    "        \n",
    "        # Add the features to the input list\n",
    "        input_features.append([feature1, feature2, feature3, feature4])\n",
    "        \n",
    "        time.sleep(0.5)  # Simulating reading sensor values every 0.5 seconds\n",
    "    \n",
    "    # Predict after 25 seconds\n",
    "    predict()\n",
    "\n",
    "def predict():\n",
    "    global input_features\n",
    "    \n",
    "    try:\n",
    "        # Transform the input data using the loaded scaler\n",
    "        scaled_input_features = scaler.transform(input_features)\n",
    "        \n",
    "        # Predict using the model\n",
    "        predictions = model.predict(scaled_input_features)\n",
    "        \n",
    "        # Get the predicted class index (argmax)\n",
    "        predicted_class_index = np.argmax(predictions, axis=1)\n",
    "        \n",
    "        # Inverse transform the predicted class index to the original class label\n",
    "        predicted_class = label_encoder.inverse_transform(predicted_class_index)\n",
    "        \n",
    "        # Show the predicted class in a message box\n",
    "        messagebox.showinfo(\"Prediction\", f\"The predicted odor is: {predicted_class[0]}\")\n",
    "    except Exception as e:\n",
    "        messagebox.showerror(\"Error\", f\"An error occurred: {str(e)}\")\n",
    "    finally:\n",
    "        # Reset input features\n",
    "        input_features = []\n",
    "        prediction_label.config(text=\"Press 'Start Prediction' to begin\")\n",
    "\n",
    "# Create the main window\n",
    "root = tk.Tk()\n",
    "root.title(\"Real-time Odor Prediction\")\n",
    "\n",
    "# Create a label to show prediction status\n",
    "prediction_label = tk.Label(root, text=\"Press 'Start Prediction' to begin\")\n",
    "prediction_label.pack(pady=10)\n",
    "\n",
    "# Create a button to start prediction\n",
    "start_button = ttk.Button(root, text=\"Start Prediction\", command=start_prediction)\n",
    "start_button.pack(pady=10)\n",
    "\n",
    "# Run the main event loop\n",
    "root.mainloop()\n"
   ]
  }
 ],
 "metadata": {
  "colab": {
   "provenance": []
  },
  "kernelspec": {
   "display_name": "Python 3 (ipykernel)",
   "language": "python",
   "name": "python3"
  },
  "language_info": {
   "codemirror_mode": {
    "name": "ipython",
    "version": 3
   },
   "file_extension": ".py",
   "mimetype": "text/x-python",
   "name": "python",
   "nbconvert_exporter": "python",
   "pygments_lexer": "ipython3",
   "version": "3.8.19"
  }
 },
 "nbformat": 4,
 "nbformat_minor": 5
}
