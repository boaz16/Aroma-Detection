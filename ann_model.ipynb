{
  "cells": [
    {
      "cell_type": "code",
      "execution_count": 2,
      "id": "74b27dd0",
      "metadata": {
        "id": "74b27dd0",
        "scrolled": true
      },
      "outputs": [],
      "source": [
        "import tensorflow as tf\n",
        "from tensorflow.keras.models import Sequential\n",
        "from tensorflow.keras.layers import Dense\n",
        "from sklearn.model_selection import train_test_split\n",
        "from sklearn.preprocessing import StandardScaler\n",
        "import pandas as pd\n",
        "data = pd.read_csv(r'C:\\Users\\bovas\\Desktop\\Main Project\\Aroma Detection\\data.csv')"
      ]
    },
    {
      "cell_type": "code",
      "execution_count": 3,
      "id": "df18d6fe",
      "metadata": {
        "id": "df18d6fe",
        "outputId": "e1b05779-0a9d-453b-98d0-12017df15275"
      },
      "outputs": [
        {
          "data": {
            "text/html": [
              "<div>\n",
              "<style scoped>\n",
              "    .dataframe tbody tr th:only-of-type {\n",
              "        vertical-align: middle;\n",
              "    }\n",
              "\n",
              "    .dataframe tbody tr th {\n",
              "        vertical-align: top;\n",
              "    }\n",
              "\n",
              "    .dataframe thead th {\n",
              "        text-align: right;\n",
              "    }\n",
              "</style>\n",
              "<table border=\"1\" class=\"dataframe\">\n",
              "  <thead>\n",
              "    <tr style=\"text-align: right;\">\n",
              "      <th></th>\n",
              "      <th>voc1</th>\n",
              "      <th>no2</th>\n",
              "      <th>eth</th>\n",
              "      <th>co</th>\n",
              "      <th>tag</th>\n",
              "    </tr>\n",
              "  </thead>\n",
              "  <tbody>\n",
              "    <tr>\n",
              "      <th>7322</th>\n",
              "      <td>4.62</td>\n",
              "      <td>4.7</td>\n",
              "      <td>4.45</td>\n",
              "      <td>4.50</td>\n",
              "      <td>orange</td>\n",
              "    </tr>\n",
              "    <tr>\n",
              "      <th>7323</th>\n",
              "      <td>4.62</td>\n",
              "      <td>4.7</td>\n",
              "      <td>4.44</td>\n",
              "      <td>4.50</td>\n",
              "      <td>orange</td>\n",
              "    </tr>\n",
              "    <tr>\n",
              "      <th>7324</th>\n",
              "      <td>4.62</td>\n",
              "      <td>4.7</td>\n",
              "      <td>4.44</td>\n",
              "      <td>4.49</td>\n",
              "      <td>orange</td>\n",
              "    </tr>\n",
              "    <tr>\n",
              "      <th>7325</th>\n",
              "      <td>4.61</td>\n",
              "      <td>4.7</td>\n",
              "      <td>4.44</td>\n",
              "      <td>4.49</td>\n",
              "      <td>orange</td>\n",
              "    </tr>\n",
              "    <tr>\n",
              "      <th>7326</th>\n",
              "      <td>4.61</td>\n",
              "      <td>4.7</td>\n",
              "      <td>4.44</td>\n",
              "      <td>4.47</td>\n",
              "      <td>orange</td>\n",
              "    </tr>\n",
              "  </tbody>\n",
              "</table>\n",
              "</div>"
            ],
            "text/plain": [
              "      voc1  no2   eth    co     tag\n",
              "7322  4.62  4.7  4.45  4.50  orange\n",
              "7323  4.62  4.7  4.44  4.50  orange\n",
              "7324  4.62  4.7  4.44  4.49  orange\n",
              "7325  4.61  4.7  4.44  4.49  orange\n",
              "7326  4.61  4.7  4.44  4.47  orange"
            ]
          },
          "execution_count": 3,
          "metadata": {},
          "output_type": "execute_result"
        }
      ],
      "source": [
        "data.tail()"
      ]
    },
    {
      "cell_type": "code",
      "execution_count": 4,
      "id": "4a1f2fab",
      "metadata": {
        "id": "4a1f2fab",
        "outputId": "4407126c-edf0-4237-9741-19fb7f644f6c"
      },
      "outputs": [
        {
          "data": {
            "text/html": [
              "<div>\n",
              "<style scoped>\n",
              "    .dataframe tbody tr th:only-of-type {\n",
              "        vertical-align: middle;\n",
              "    }\n",
              "\n",
              "    .dataframe tbody tr th {\n",
              "        vertical-align: top;\n",
              "    }\n",
              "\n",
              "    .dataframe thead th {\n",
              "        text-align: right;\n",
              "    }\n",
              "</style>\n",
              "<table border=\"1\" class=\"dataframe\">\n",
              "  <thead>\n",
              "    <tr style=\"text-align: right;\">\n",
              "      <th></th>\n",
              "      <th>voc1</th>\n",
              "      <th>no2</th>\n",
              "      <th>eth</th>\n",
              "      <th>co</th>\n",
              "      <th>tag</th>\n",
              "    </tr>\n",
              "  </thead>\n",
              "  <tbody>\n",
              "    <tr>\n",
              "      <th>0</th>\n",
              "      <td>1.31</td>\n",
              "      <td>1.18</td>\n",
              "      <td>1.17</td>\n",
              "      <td>0.78</td>\n",
              "      <td>background</td>\n",
              "    </tr>\n",
              "    <tr>\n",
              "      <th>1</th>\n",
              "      <td>1.31</td>\n",
              "      <td>1.19</td>\n",
              "      <td>1.17</td>\n",
              "      <td>0.78</td>\n",
              "      <td>background</td>\n",
              "    </tr>\n",
              "    <tr>\n",
              "      <th>2</th>\n",
              "      <td>1.32</td>\n",
              "      <td>1.19</td>\n",
              "      <td>1.17</td>\n",
              "      <td>0.79</td>\n",
              "      <td>background</td>\n",
              "    </tr>\n",
              "    <tr>\n",
              "      <th>3</th>\n",
              "      <td>1.31</td>\n",
              "      <td>1.18</td>\n",
              "      <td>1.17</td>\n",
              "      <td>0.78</td>\n",
              "      <td>background</td>\n",
              "    </tr>\n",
              "    <tr>\n",
              "      <th>4</th>\n",
              "      <td>1.31</td>\n",
              "      <td>1.17</td>\n",
              "      <td>1.17</td>\n",
              "      <td>0.78</td>\n",
              "      <td>background</td>\n",
              "    </tr>\n",
              "    <tr>\n",
              "      <th>...</th>\n",
              "      <td>...</td>\n",
              "      <td>...</td>\n",
              "      <td>...</td>\n",
              "      <td>...</td>\n",
              "      <td>...</td>\n",
              "    </tr>\n",
              "    <tr>\n",
              "      <th>7322</th>\n",
              "      <td>4.62</td>\n",
              "      <td>4.70</td>\n",
              "      <td>4.45</td>\n",
              "      <td>4.50</td>\n",
              "      <td>orange</td>\n",
              "    </tr>\n",
              "    <tr>\n",
              "      <th>7323</th>\n",
              "      <td>4.62</td>\n",
              "      <td>4.70</td>\n",
              "      <td>4.44</td>\n",
              "      <td>4.50</td>\n",
              "      <td>orange</td>\n",
              "    </tr>\n",
              "    <tr>\n",
              "      <th>7324</th>\n",
              "      <td>4.62</td>\n",
              "      <td>4.70</td>\n",
              "      <td>4.44</td>\n",
              "      <td>4.49</td>\n",
              "      <td>orange</td>\n",
              "    </tr>\n",
              "    <tr>\n",
              "      <th>7325</th>\n",
              "      <td>4.61</td>\n",
              "      <td>4.70</td>\n",
              "      <td>4.44</td>\n",
              "      <td>4.49</td>\n",
              "      <td>orange</td>\n",
              "    </tr>\n",
              "    <tr>\n",
              "      <th>7326</th>\n",
              "      <td>4.61</td>\n",
              "      <td>4.70</td>\n",
              "      <td>4.44</td>\n",
              "      <td>4.47</td>\n",
              "      <td>orange</td>\n",
              "    </tr>\n",
              "  </tbody>\n",
              "</table>\n",
              "<p>7327 rows × 5 columns</p>\n",
              "</div>"
            ],
            "text/plain": [
              "      voc1   no2   eth    co         tag\n",
              "0     1.31  1.18  1.17  0.78  background\n",
              "1     1.31  1.19  1.17  0.78  background\n",
              "2     1.32  1.19  1.17  0.79  background\n",
              "3     1.31  1.18  1.17  0.78  background\n",
              "4     1.31  1.17  1.17  0.78  background\n",
              "...    ...   ...   ...   ...         ...\n",
              "7322  4.62  4.70  4.45  4.50      orange\n",
              "7323  4.62  4.70  4.44  4.50      orange\n",
              "7324  4.62  4.70  4.44  4.49      orange\n",
              "7325  4.61  4.70  4.44  4.49      orange\n",
              "7326  4.61  4.70  4.44  4.47      orange\n",
              "\n",
              "[7327 rows x 5 columns]"
            ]
          },
          "execution_count": 4,
          "metadata": {},
          "output_type": "execute_result"
        }
      ],
      "source": [
        "data"
      ]
    },
    {
      "cell_type": "code",
      "execution_count": 5,
      "id": "3d9aada9",
      "metadata": {
        "id": "3d9aada9"
      },
      "outputs": [
        {
          "data": {
            "text/plain": [
              "['C:\\\\Users\\\\bovas\\\\Desktop\\\\Main Project\\\\Aroma Detection\\\\scaler.pkl']"
            ]
          },
          "execution_count": 5,
          "metadata": {},
          "output_type": "execute_result"
        }
      ],
      "source": [
        "X, y = data[['voc1','no2','eth','co']], data['tag']\n",
        "\n",
        "from sklearn.preprocessing import LabelEncoder\n",
        "from keras.utils import to_categorical\n",
        "from joblib import dump, load\n",
        "\n",
        "label_encoder = LabelEncoder()\n",
        "y = label_encoder.fit_transform(y)\n",
        "y_categorical = to_categorical(y, num_classes=3)\n",
        "\n",
        "X_train, X_test, y_train, y_test = train_test_split(X, y_categorical, test_size=0.2, random_state=42)\n",
        "\n",
        "scaler = StandardScaler()\n",
        "X_train = scaler.fit_transform(X_train)\n",
        "X_test = scaler.transform(X_test)\n",
        "\n",
        "# Save the scaler\n",
        "scaler_path = (r'C:\\Users\\bovas\\Desktop\\Main Project\\Aroma Detection\\scaler.pkl')\n",
        "dump(scaler, scaler_path)"
      ]
    },
    {
      "cell_type": "code",
      "execution_count": 6,
      "id": "5566d3f2",
      "metadata": {
        "id": "5566d3f2",
        "outputId": "189d8e0f-942f-453e-f82e-ff571ea83904",
        "scrolled": false
      },
      "outputs": [
        {
          "name": "stdout",
          "output_type": "stream",
          "text": [
            "Epoch 1/50\n",
            "147/147 [==============================] - 2s 5ms/step - loss: 0.3504 - accuracy: 0.9597 - val_loss: 0.0099 - val_accuracy: 1.0000\n",
            "Epoch 2/50\n",
            "147/147 [==============================] - 0s 3ms/step - loss: 0.0030 - accuracy: 1.0000 - val_loss: 0.0010 - val_accuracy: 1.0000\n",
            "Epoch 3/50\n",
            "147/147 [==============================] - 0s 3ms/step - loss: 6.1779e-04 - accuracy: 1.0000 - val_loss: 3.8805e-04 - val_accuracy: 1.0000\n",
            "Epoch 4/50\n",
            "147/147 [==============================] - 1s 5ms/step - loss: 2.7661e-04 - accuracy: 1.0000 - val_loss: 2.0074e-04 - val_accuracy: 1.0000\n",
            "Epoch 5/50\n",
            "147/147 [==============================] - 1s 4ms/step - loss: 1.5582e-04 - accuracy: 1.0000 - val_loss: 1.2401e-04 - val_accuracy: 1.0000\n",
            "Epoch 6/50\n",
            "147/147 [==============================] - 1s 4ms/step - loss: 1.0079e-04 - accuracy: 1.0000 - val_loss: 8.4069e-05 - val_accuracy: 1.0000\n",
            "Epoch 7/50\n",
            "147/147 [==============================] - 0s 3ms/step - loss: 7.0391e-05 - accuracy: 1.0000 - val_loss: 6.0610e-05 - val_accuracy: 1.0000\n",
            "Epoch 8/50\n",
            "147/147 [==============================] - 1s 4ms/step - loss: 5.1663e-05 - accuracy: 1.0000 - val_loss: 4.5392e-05 - val_accuracy: 1.0000\n",
            "Epoch 9/50\n",
            "147/147 [==============================] - 1s 4ms/step - loss: 3.9413e-05 - accuracy: 1.0000 - val_loss: 3.5151e-05 - val_accuracy: 1.0000\n",
            "Epoch 10/50\n",
            "147/147 [==============================] - 0s 3ms/step - loss: 3.0943e-05 - accuracy: 1.0000 - val_loss: 2.7927e-05 - val_accuracy: 1.0000\n",
            "Epoch 11/50\n",
            "147/147 [==============================] - 0s 3ms/step - loss: 2.4856e-05 - accuracy: 1.0000 - val_loss: 2.2663e-05 - val_accuracy: 1.0000\n",
            "Epoch 12/50\n",
            "147/147 [==============================] - 0s 3ms/step - loss: 2.0320e-05 - accuracy: 1.0000 - val_loss: 1.8677e-05 - val_accuracy: 1.0000\n",
            "Epoch 13/50\n",
            "147/147 [==============================] - 1s 4ms/step - loss: 1.6853e-05 - accuracy: 1.0000 - val_loss: 1.5581e-05 - val_accuracy: 1.0000\n",
            "Epoch 14/50\n",
            "147/147 [==============================] - 1s 4ms/step - loss: 1.4146e-05 - accuracy: 1.0000 - val_loss: 1.3153e-05 - val_accuracy: 1.0000\n",
            "Epoch 15/50\n",
            "147/147 [==============================] - 0s 2ms/step - loss: 1.1991e-05 - accuracy: 1.0000 - val_loss: 1.1214e-05 - val_accuracy: 1.0000\n",
            "Epoch 16/50\n",
            "147/147 [==============================] - 0s 2ms/step - loss: 1.0256e-05 - accuracy: 1.0000 - val_loss: 9.6184e-06 - val_accuracy: 1.0000\n",
            "Epoch 17/50\n",
            "147/147 [==============================] - 0s 3ms/step - loss: 8.8354e-06 - accuracy: 1.0000 - val_loss: 8.3203e-06 - val_accuracy: 1.0000\n",
            "Epoch 18/50\n",
            "147/147 [==============================] - 0s 2ms/step - loss: 7.6620e-06 - accuracy: 1.0000 - val_loss: 7.2327e-06 - val_accuracy: 1.0000\n",
            "Epoch 19/50\n",
            "147/147 [==============================] - 0s 2ms/step - loss: 6.6819e-06 - accuracy: 1.0000 - val_loss: 6.3240e-06 - val_accuracy: 1.0000\n",
            "Epoch 20/50\n",
            "147/147 [==============================] - 0s 2ms/step - loss: 5.8573e-06 - accuracy: 1.0000 - val_loss: 5.5511e-06 - val_accuracy: 1.0000\n",
            "Epoch 21/50\n",
            "147/147 [==============================] - 0s 2ms/step - loss: 5.1567e-06 - accuracy: 1.0000 - val_loss: 4.9004e-06 - val_accuracy: 1.0000\n",
            "Epoch 22/50\n",
            "147/147 [==============================] - 0s 2ms/step - loss: 4.5572e-06 - accuracy: 1.0000 - val_loss: 4.3353e-06 - val_accuracy: 1.0000\n",
            "Epoch 23/50\n",
            "147/147 [==============================] - 0s 2ms/step - loss: 4.0387e-06 - accuracy: 1.0000 - val_loss: 3.8506e-06 - val_accuracy: 1.0000\n",
            "Epoch 24/50\n",
            "147/147 [==============================] - 0s 3ms/step - loss: 3.5936e-06 - accuracy: 1.0000 - val_loss: 3.4293e-06 - val_accuracy: 1.0000\n",
            "Epoch 25/50\n",
            "147/147 [==============================] - 0s 3ms/step - loss: 3.2029e-06 - accuracy: 1.0000 - val_loss: 3.0594e-06 - val_accuracy: 1.0000\n",
            "Epoch 26/50\n",
            "147/147 [==============================] - 1s 4ms/step - loss: 2.8651e-06 - accuracy: 1.0000 - val_loss: 2.7431e-06 - val_accuracy: 1.0000\n",
            "Epoch 27/50\n",
            "147/147 [==============================] - 1s 4ms/step - loss: 2.5686e-06 - accuracy: 1.0000 - val_loss: 2.4579e-06 - val_accuracy: 1.0000\n",
            "Epoch 28/50\n",
            "147/147 [==============================] - 0s 3ms/step - loss: 2.3053e-06 - accuracy: 1.0000 - val_loss: 2.2081e-06 - val_accuracy: 1.0000\n",
            "Epoch 29/50\n",
            "147/147 [==============================] - 0s 3ms/step - loss: 2.0721e-06 - accuracy: 1.0000 - val_loss: 1.9865e-06 - val_accuracy: 1.0000\n",
            "Epoch 30/50\n",
            "147/147 [==============================] - 0s 3ms/step - loss: 1.8698e-06 - accuracy: 1.0000 - val_loss: 1.7964e-06 - val_accuracy: 1.0000\n",
            "Epoch 31/50\n",
            "147/147 [==============================] - 1s 5ms/step - loss: 1.6888e-06 - accuracy: 1.0000 - val_loss: 1.6179e-06 - val_accuracy: 1.0000\n",
            "Epoch 32/50\n",
            "147/147 [==============================] - 0s 3ms/step - loss: 1.5258e-06 - accuracy: 1.0000 - val_loss: 1.4665e-06 - val_accuracy: 1.0000\n",
            "Epoch 33/50\n",
            "147/147 [==============================] - 0s 3ms/step - loss: 1.3796e-06 - accuracy: 1.0000 - val_loss: 1.3281e-06 - val_accuracy: 1.0000\n",
            "Epoch 34/50\n",
            "147/147 [==============================] - 0s 3ms/step - loss: 1.2543e-06 - accuracy: 1.0000 - val_loss: 1.2101e-06 - val_accuracy: 1.0000\n",
            "Epoch 35/50\n",
            "147/147 [==============================] - 0s 3ms/step - loss: 1.1413e-06 - accuracy: 1.0000 - val_loss: 1.1023e-06 - val_accuracy: 1.0000\n",
            "Epoch 36/50\n",
            "147/147 [==============================] - 0s 3ms/step - loss: 1.0364e-06 - accuracy: 1.0000 - val_loss: 9.9991e-07 - val_accuracy: 1.0000\n",
            "Epoch 37/50\n",
            "147/147 [==============================] - 0s 2ms/step - loss: 9.4338e-07 - accuracy: 1.0000 - val_loss: 9.1079e-07 - val_accuracy: 1.0000\n",
            "Epoch 38/50\n",
            "147/147 [==============================] - 0s 3ms/step - loss: 8.5804e-07 - accuracy: 1.0000 - val_loss: 8.2816e-07 - val_accuracy: 1.0000\n",
            "Epoch 39/50\n",
            "147/147 [==============================] - 0s 2ms/step - loss: 7.8312e-07 - accuracy: 1.0000 - val_loss: 7.5774e-07 - val_accuracy: 1.0000\n",
            "Epoch 40/50\n",
            "147/147 [==============================] - 0s 2ms/step - loss: 7.1655e-07 - accuracy: 1.0000 - val_loss: 6.9534e-07 - val_accuracy: 1.0000\n",
            "Epoch 41/50\n",
            "147/147 [==============================] - 0s 2ms/step - loss: 6.5802e-07 - accuracy: 1.0000 - val_loss: 6.3111e-07 - val_accuracy: 1.0000\n",
            "Epoch 42/50\n",
            "147/147 [==============================] - 0s 2ms/step - loss: 5.9836e-07 - accuracy: 1.0000 - val_loss: 5.7684e-07 - val_accuracy: 1.0000\n",
            "Epoch 43/50\n",
            "147/147 [==============================] - 0s 3ms/step - loss: 5.4725e-07 - accuracy: 1.0000 - val_loss: 5.2694e-07 - val_accuracy: 1.0000\n",
            "Epoch 44/50\n",
            "147/147 [==============================] - 0s 2ms/step - loss: 4.9924e-07 - accuracy: 1.0000 - val_loss: 4.8385e-07 - val_accuracy: 1.0000\n",
            "Epoch 45/50\n",
            "147/147 [==============================] - 0s 2ms/step - loss: 4.5710e-07 - accuracy: 1.0000 - val_loss: 4.4096e-07 - val_accuracy: 1.0000\n",
            "Epoch 46/50\n",
            "147/147 [==============================] - 0s 2ms/step - loss: 4.1588e-07 - accuracy: 1.0000 - val_loss: 3.9645e-07 - val_accuracy: 1.0000\n",
            "Epoch 47/50\n",
            "147/147 [==============================] - 0s 2ms/step - loss: 3.7324e-07 - accuracy: 1.0000 - val_loss: 3.6007e-07 - val_accuracy: 1.0000\n",
            "Epoch 48/50\n",
            "147/147 [==============================] - 0s 3ms/step - loss: 3.3843e-07 - accuracy: 1.0000 - val_loss: 3.2541e-07 - val_accuracy: 1.0000\n",
            "Epoch 49/50\n",
            "147/147 [==============================] - 0s 3ms/step - loss: 3.0652e-07 - accuracy: 1.0000 - val_loss: 2.9482e-07 - val_accuracy: 1.0000\n",
            "Epoch 50/50\n",
            "147/147 [==============================] - 0s 3ms/step - loss: 2.7877e-07 - accuracy: 1.0000 - val_loss: 2.7145e-07 - val_accuracy: 1.0000\n"
          ]
        }
      ],
      "source": [
        "from tensorflow.keras.callbacks import EarlyStopping\n",
        "\n",
        "early_stopping = EarlyStopping(\n",
        "    patience=5, \n",
        "    monitor='val_loss', \n",
        "    restore_best_weights=True,  \n",
        "    verbose=1  \n",
        ")\n",
        "\n",
        "model = Sequential()\n",
        "model.add(Dense(64, input_dim=4, activation='relu'))\n",
        "model.add(Dense(32, activation='relu'))\n",
        "model.add(Dense(32, activation='relu'))\n",
        "model.add(Dense(3, activation='softmax'))\n",
        "\n",
        "model.compile(optimizer='adam', loss='categorical_crossentropy', metrics=['accuracy'])\n",
        "history = model.fit(X_train, y_train, epochs=50, batch_size=32, validation_split=0.2, callbacks=[early_stopping])"
      ]
    },
    {
      "cell_type": "code",
      "execution_count": 7,
      "id": "a7752498",
      "metadata": {
        "id": "a7752498",
        "outputId": "b6b8e63a-c5f2-4159-8c9c-78736631d874"
      },
      "outputs": [
        {
          "name": "stdout",
          "output_type": "stream",
          "text": [
            " 1/46 [..............................] - ETA: 1s - loss: 2.6822e-07 - accuracy: 1.0000"
          ]
        },
        {
          "name": "stdout",
          "output_type": "stream",
          "text": [
            "46/46 [==============================] - 0s 2ms/step - loss: 2.5606e-07 - accuracy: 1.0000\n",
            "Test Loss: 0.0000, Test Accuracy: 1.0000\n"
          ]
        }
      ],
      "source": [
        "loss, accuracy = model.evaluate(X_test, y_test)\n",
        "print(f'Test Loss: {loss:.4f}, Test Accuracy: {accuracy:.4f}')"
      ]
    },
    {
      "cell_type": "code",
      "execution_count": 8,
      "id": "19415f6c",
      "metadata": {},
      "outputs": [
        {
          "data": {
            "image/png": "[encoded data removed]",
            "text/plain": [
              "<Figure size 1200x600 with 2 Axes>"
            ]
          },
          "metadata": {},
          "output_type": "display_data"
        }
      ],
      "source": [
        "import matplotlib.pyplot as plt\n",
        "\n",
        "# Plot training and validation accuracy values\n",
        "plt.figure(figsize=(12, 6))\n",
        "plt.subplot(1, 2, 1)\n",
        "plt.plot(history.history['accuracy'], label='Training Accuracy')\n",
        "plt.plot(history.history['val_accuracy'], label='Validation Accuracy')\n",
        "plt.title('Training and Validation Accuracy')\n",
        "plt.xlabel('Epoch')\n",
        "plt.ylabel('Accuracy')\n",
        "plt.legend()\n",
        "\n",
        "# Plot training and validation loss values\n",
        "plt.subplot(1, 2, 2)\n",
        "plt.plot(history.history['loss'], label='Training Loss')\n",
        "plt.plot(history.history['val_loss'], label='Validation Loss')\n",
        "plt.title('Training and Validation Loss')\n",
        "plt.xlabel('Epoch')\n",
        "plt.ylabel('Loss')\n",
        "plt.legend()\n",
        "\n",
        "plt.tight_layout()\n",
        "plt.show()\n"
      ]
    },
    {
      "cell_type": "code",
      "execution_count": 9,
      "id": "0fab7ab6",
      "metadata": {},
      "outputs": [
        {
          "name": "stderr",
          "output_type": "stream",
          "text": [
            "WARNING:absl:Found untraced functions such as _update_step_xla while saving (showing 1 of 1). These functions will not be directly callable after loading.\n"
          ]
        },
        {
          "name": "stdout",
          "output_type": "stream",
          "text": [
            "INFO:tensorflow:Assets written to: C:\\Users\\bovas\\Desktop\\Main Project\\Aroma Detection\\ann_model\\assets\n"
          ]
        },
        {
          "name": "stderr",
          "output_type": "stream",
          "text": [
            "INFO:tensorflow:Assets written to: C:\\Users\\bovas\\Desktop\\Main Project\\Aroma Detection\\ann_model\\assets\n"
          ]
        }
      ],
      "source": [
        "model.save(r\"C:\\Users\\bovas\\Desktop\\Main Project\\Aroma Detection\\ann_model\")"
      ]
    },
    {
      "cell_type": "markdown",
      "id": "f3faeb3b",
      "metadata": {},
      "source": [
        "### Making a sample prediction"
      ]
    },
    {
      "cell_type": "code",
      "execution_count": 10,
      "id": "ccc6e7ce",
      "metadata": {},
      "outputs": [
        {
          "name": "stdout",
          "output_type": "stream",
          "text": [
            "1/1 [==============================] - 0s 126ms/step\n"
          ]
        },
        {
          "name": "stderr",
          "output_type": "stream",
          "text": [
            "c:\\Users\\bovas\\AppData\\Local\\Programs\\Python\\Python311\\Lib\\site-packages\\sklearn\\base.py:439: UserWarning: X does not have valid feature names, but StandardScaler was fitted with feature names\n",
            "  warnings.warn(\n"
          ]
        },
        {
          "name": "stdout",
          "output_type": "stream",
          "text": [
            "Predicted Labels:\n",
            "['background']\n"
          ]
        }
      ],
      "source": [
        "import numpy as np\n",
        "from tensorflow.keras.models import load_model\n",
        "\n",
        "model = load_model(r\"C:\\Users\\bovas\\Desktop\\Main Project\\Aroma Detection\\ann_model\")\n",
        "\n",
        "inputs_features = np.array([[0.57,1.09,0.33,0.74]])\n",
        "\n",
        "# Transform the input data using the scaler\n",
        "scaled_inputs_features = scaler.transform(inputs_features)\n",
        "\n",
        "# Predict using the model\n",
        "predictions_features = model.predict(scaled_inputs_features)\n",
        "\n",
        "# Get the predicted class index (argmax)\n",
        "predicted_class_index = np.argmax(predictions_features, axis=1)\n",
        "\n",
        "# Inverse transform the predicted class index to the original class labels\n",
        "decoded_labels_features = label_encoder.inverse_transform(predicted_class_index)\n",
        "\n",
        "print(\"Predicted Labels:\")\n",
        "print(decoded_labels_features)\n"
      ]
    }
  ],
  "metadata": {
    "colab": {
      "provenance": []
    },
    "kernelspec": {
      "display_name": "Python 3 (ipykernel)",
      "language": "python",
      "name": "python3"
    },
    "language_info": {
      "codemirror_mode": {
        "name": "ipython",
        "version": 3
      },
      "file_extension": ".py",
      "mimetype": "text/x-python",
      "name": "python",
      "nbconvert_exporter": "python",
      "pygments_lexer": "ipython3",
      "version": "3.11.4"
    }
  },
  "nbformat": 4,
  "nbformat_minor": 5
}
