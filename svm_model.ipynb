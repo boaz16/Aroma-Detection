{
 "cells": [
  {
   "cell_type": "code",
   "execution_count": 7,
   "id": "74b27dd0",
   "metadata": {
    "id": "74b27dd0",
    "scrolled": true
   },
   "outputs": [],
   "source": [
    "import numpy as np\n",
    "from sklearn.model_selection import train_test_split\n",
    "from sklearn.preprocessing import StandardScaler\n",
    "from sklearn.svm import SVC\n",
    "from sklearn.metrics import accuracy_score\n",
    "from joblib import dump\n",
    "\n",
    "data = pd.read_csv(r'C:\\Users\\Hp\\Downloads\\data.csv')"
   ]
  },
  {
   "cell_type": "code",
   "execution_count": 8,
   "id": "df18d6fe",
   "metadata": {
    "id": "df18d6fe",
    "outputId": "e1b05779-0a9d-453b-98d0-12017df15275"
   },
   "outputs": [
    {
     "data": {
      "text/html": [
       "<div>\n",
       "<style scoped>\n",
       "    .dataframe tbody tr th:only-of-type {\n",
       "        vertical-align: middle;\n",
       "    }\n",
       "\n",
       "    .dataframe tbody tr th {\n",
       "        vertical-align: top;\n",
       "    }\n",
       "\n",
       "    .dataframe thead th {\n",
       "        text-align: right;\n",
       "    }\n",
       "</style>\n",
       "<table border=\"1\" class=\"dataframe\">\n",
       "  <thead>\n",
       "    <tr style=\"text-align: right;\">\n",
       "      <th></th>\n",
       "      <th>voc1</th>\n",
       "      <th>no2</th>\n",
       "      <th>eth</th>\n",
       "      <th>co</th>\n",
       "      <th>tag</th>\n",
       "    </tr>\n",
       "  </thead>\n",
       "  <tbody>\n",
       "    <tr>\n",
       "      <th>6836</th>\n",
       "      <td>1.57</td>\n",
       "      <td>2.49</td>\n",
       "      <td>1.36</td>\n",
       "      <td>1.87</td>\n",
       "      <td>tea</td>\n",
       "    </tr>\n",
       "    <tr>\n",
       "      <th>6837</th>\n",
       "      <td>1.57</td>\n",
       "      <td>2.49</td>\n",
       "      <td>1.36</td>\n",
       "      <td>1.87</td>\n",
       "      <td>tea</td>\n",
       "    </tr>\n",
       "    <tr>\n",
       "      <th>6838</th>\n",
       "      <td>1.57</td>\n",
       "      <td>2.49</td>\n",
       "      <td>1.36</td>\n",
       "      <td>1.87</td>\n",
       "      <td>tea</td>\n",
       "    </tr>\n",
       "    <tr>\n",
       "      <th>6839</th>\n",
       "      <td>1.57</td>\n",
       "      <td>2.49</td>\n",
       "      <td>1.37</td>\n",
       "      <td>1.88</td>\n",
       "      <td>tea</td>\n",
       "    </tr>\n",
       "    <tr>\n",
       "      <th>6840</th>\n",
       "      <td>1.57</td>\n",
       "      <td>2.49</td>\n",
       "      <td>1.37</td>\n",
       "      <td>1.87</td>\n",
       "      <td>tea</td>\n",
       "    </tr>\n",
       "  </tbody>\n",
       "</table>\n",
       "</div>"
      ],
      "text/plain": [
       "      voc1   no2   eth    co  tag\n",
       "6836  1.57  2.49  1.36  1.87  tea\n",
       "6837  1.57  2.49  1.36  1.87  tea\n",
       "6838  1.57  2.49  1.36  1.87  tea\n",
       "6839  1.57  2.49  1.37  1.88  tea\n",
       "6840  1.57  2.49  1.37  1.87  tea"
      ]
     },
     "execution_count": 8,
     "metadata": {},
     "output_type": "execute_result"
    }
   ],
   "source": [
    "data.tail()"
   ]
  },
  {
   "cell_type": "code",
   "execution_count": 10,
   "id": "4a1f2fab",
   "metadata": {
    "id": "4a1f2fab",
    "outputId": "4407126c-edf0-4237-9741-19fb7f644f6c",
    "scrolled": false
   },
   "outputs": [
    {
     "data": {
      "text/html": [
       "<div>\n",
       "<style scoped>\n",
       "    .dataframe tbody tr th:only-of-type {\n",
       "        vertical-align: middle;\n",
       "    }\n",
       "\n",
       "    .dataframe tbody tr th {\n",
       "        vertical-align: top;\n",
       "    }\n",
       "\n",
       "    .dataframe thead th {\n",
       "        text-align: right;\n",
       "    }\n",
       "</style>\n",
       "<table border=\"1\" class=\"dataframe\">\n",
       "  <thead>\n",
       "    <tr style=\"text-align: right;\">\n",
       "      <th></th>\n",
       "      <th>voc1</th>\n",
       "      <th>no2</th>\n",
       "      <th>eth</th>\n",
       "      <th>co</th>\n",
       "      <th>tag</th>\n",
       "    </tr>\n",
       "  </thead>\n",
       "  <tbody>\n",
       "    <tr>\n",
       "      <th>0</th>\n",
       "      <td>0.43</td>\n",
       "      <td>0.70</td>\n",
       "      <td>0.23</td>\n",
       "      <td>0.83</td>\n",
       "      <td>background</td>\n",
       "    </tr>\n",
       "    <tr>\n",
       "      <th>1</th>\n",
       "      <td>0.43</td>\n",
       "      <td>0.70</td>\n",
       "      <td>0.23</td>\n",
       "      <td>0.83</td>\n",
       "      <td>background</td>\n",
       "    </tr>\n",
       "    <tr>\n",
       "      <th>2</th>\n",
       "      <td>0.43</td>\n",
       "      <td>0.69</td>\n",
       "      <td>0.23</td>\n",
       "      <td>0.83</td>\n",
       "      <td>background</td>\n",
       "    </tr>\n",
       "    <tr>\n",
       "      <th>3</th>\n",
       "      <td>0.43</td>\n",
       "      <td>0.69</td>\n",
       "      <td>0.23</td>\n",
       "      <td>0.83</td>\n",
       "      <td>background</td>\n",
       "    </tr>\n",
       "    <tr>\n",
       "      <th>4</th>\n",
       "      <td>0.43</td>\n",
       "      <td>0.69</td>\n",
       "      <td>0.23</td>\n",
       "      <td>0.83</td>\n",
       "      <td>background</td>\n",
       "    </tr>\n",
       "    <tr>\n",
       "      <th>...</th>\n",
       "      <td>...</td>\n",
       "      <td>...</td>\n",
       "      <td>...</td>\n",
       "      <td>...</td>\n",
       "      <td>...</td>\n",
       "    </tr>\n",
       "    <tr>\n",
       "      <th>6836</th>\n",
       "      <td>1.57</td>\n",
       "      <td>2.49</td>\n",
       "      <td>1.36</td>\n",
       "      <td>1.87</td>\n",
       "      <td>tea</td>\n",
       "    </tr>\n",
       "    <tr>\n",
       "      <th>6837</th>\n",
       "      <td>1.57</td>\n",
       "      <td>2.49</td>\n",
       "      <td>1.36</td>\n",
       "      <td>1.87</td>\n",
       "      <td>tea</td>\n",
       "    </tr>\n",
       "    <tr>\n",
       "      <th>6838</th>\n",
       "      <td>1.57</td>\n",
       "      <td>2.49</td>\n",
       "      <td>1.36</td>\n",
       "      <td>1.87</td>\n",
       "      <td>tea</td>\n",
       "    </tr>\n",
       "    <tr>\n",
       "      <th>6839</th>\n",
       "      <td>1.57</td>\n",
       "      <td>2.49</td>\n",
       "      <td>1.37</td>\n",
       "      <td>1.88</td>\n",
       "      <td>tea</td>\n",
       "    </tr>\n",
       "    <tr>\n",
       "      <th>6840</th>\n",
       "      <td>1.57</td>\n",
       "      <td>2.49</td>\n",
       "      <td>1.37</td>\n",
       "      <td>1.87</td>\n",
       "      <td>tea</td>\n",
       "    </tr>\n",
       "  </tbody>\n",
       "</table>\n",
       "<p>6841 rows × 5 columns</p>\n",
       "</div>"
      ],
      "text/plain": [
       "      voc1   no2   eth    co         tag\n",
       "0     0.43  0.70  0.23  0.83  background\n",
       "1     0.43  0.70  0.23  0.83  background\n",
       "2     0.43  0.69  0.23  0.83  background\n",
       "3     0.43  0.69  0.23  0.83  background\n",
       "4     0.43  0.69  0.23  0.83  background\n",
       "...    ...   ...   ...   ...         ...\n",
       "6836  1.57  2.49  1.36  1.87         tea\n",
       "6837  1.57  2.49  1.36  1.87         tea\n",
       "6838  1.57  2.49  1.36  1.87         tea\n",
       "6839  1.57  2.49  1.37  1.88         tea\n",
       "6840  1.57  2.49  1.37  1.87         tea\n",
       "\n",
       "[6841 rows x 5 columns]"
      ]
     },
     "execution_count": 10,
     "metadata": {},
     "output_type": "execute_result"
    }
   ],
   "source": [
    "data"
   ]
  },
  {
   "cell_type": "code",
   "execution_count": 11,
   "id": "fefd4955",
   "metadata": {},
   "outputs": [],
   "source": [
    "X, y = data[['voc1','no2','eth','co']], data['tag']"
   ]
  },
  {
   "cell_type": "code",
   "execution_count": 12,
   "id": "3d9aada9",
   "metadata": {
    "id": "3d9aada9"
   },
   "outputs": [
    {
     "name": "stdout",
     "output_type": "stream",
     "text": [
      "Accuracy: 1.0\n"
     ]
    },
    {
     "data": {
      "text/plain": [
       "['C:\\\\Users\\\\Hp\\\\Downloads\\\\scaler.pkl']"
      ]
     },
     "execution_count": 12,
     "metadata": {},
     "output_type": "execute_result"
    }
   ],
   "source": [
    "X_train, X_test, y_train, y_test = train_test_split(X, y, test_size=0.2, random_state=42)\n",
    "\n",
    "scaler = StandardScaler()\n",
    "X_train_scaled = scaler.fit_transform(X_train)\n",
    "X_test_scaled = scaler.transform(X_test)\n",
    "\n",
    "model = SVC(kernel='rbf', C=1.0, gamma='scale', random_state=42)\n",
    "\n",
    "model.fit(X_train_scaled, y_train)\n",
    "\n",
    "y_pred = model.predict(X_test_scaled)\n",
    "\n",
    "accuracy = accuracy_score(y_test, y_pred)\n",
    "print(\"Accuracy:\", accuracy)\n",
    "\n",
    "scaler_path = r'C:\\Users\\Hp\\Downloads\\scaler.pkl'\n",
    "dump(scaler, scaler_path)"
   ]
  },
  {
   "cell_type": "code",
   "execution_count": 27,
   "id": "19415f6c",
   "metadata": {},
   "outputs": [
    {
     "data": {
      "image/png": "[encoded data removed]",
      "text/plain": [
       "<Figure size 720x432 with 1 Axes>"
      ]
     },
     "metadata": {
      "needs_background": "light"
     },
     "output_type": "display_data"
    }
   ],
   "source": [
    "import numpy as np\n",
    "import matplotlib.pyplot as plt\n",
    "from sklearn.model_selection import cross_val_score\n",
    "from sklearn.svm import SVC\n",
    "\n",
    "svm_model = SVC(kernel='rbf', C=1.0, gamma='scale', random_state=42)\n",
    "\n",
    "cv_scores = cross_val_score(model, X_train, y_train, cv=5)\n",
    "\n",
    "plt.figure(figsize=(10, 6))\n",
    "plt.plot(cv_scores, label='Cross-validation Accuracy')\n",
    "plt.title('Learning Curve')\n",
    "plt.xlabel('Fold')\n",
    "plt.ylabel('Accuracy')\n",
    "plt.legend()\n",
    "plt.show()"
   ]
  },
  {
   "cell_type": "code",
   "execution_count": 30,
   "id": "0fab7ab6",
   "metadata": {},
   "outputs": [
    {
     "data": {
      "text/plain": [
       "['C:\\\\Users\\\\Hp\\\\Downloads\\\\svm_model.joblib']"
      ]
     },
     "execution_count": 30,
     "metadata": {},
     "output_type": "execute_result"
    }
   ],
   "source": [
    "from joblib import dump\n",
    "dump(svm_model, r\"C:\\Users\\Hp\\Downloads\\svm_model.joblib\")"
   ]
  },
  {
   "cell_type": "markdown",
   "id": "f3faeb3b",
   "metadata": {},
   "source": [
    "### Making a sample prediction"
   ]
  },
  {
   "cell_type": "code",
   "execution_count": 35,
   "id": "ccc6e7ce",
   "metadata": {},
   "outputs": [
    {
     "name": "stdout",
     "output_type": "stream",
     "text": [
      "Predicted Labels:\n",
      "['background']\n"
     ]
    }
   ],
   "source": [
    "import numpy as np\n",
    "from joblib import load\n",
    "\n",
    "svm_model = load(r\"C:\\Users\\Hp\\Downloads\\svm_model.joblib\")\n",
    "\n",
    "inputs_features = np.array([[0.57, 1.09, 0.33, 0.74]])\n",
    "\n",
    "scaled_inputs_features = scaler.transform(inputs_features)\n",
    "\n",
    "svm_model.fit(X_train, y_train)\n",
    "\n",
    "predictions_features = svm_model.predict(scaled_inputs_features)\n",
    "\n",
    "print(\"Predicted Labels:\")\n",
    "print(predictions_features)\n"
   ]
  }
 ],
 "metadata": {
  "colab": {
   "provenance": []
  },
  "kernelspec": {
   "display_name": "Python 3 (ipykernel)",
   "language": "python",
   "name": "python3"
  },
  "language_info": {
   "codemirror_mode": {
    "name": "ipython",
    "version": 3
   },
   "file_extension": ".py",
   "mimetype": "text/x-python",
   "name": "python",
   "nbconvert_exporter": "python",
   "pygments_lexer": "ipython3",
   "version": "3.9.7"
  }
 },
 "nbformat": 4,
 "nbformat_minor": 5
}
